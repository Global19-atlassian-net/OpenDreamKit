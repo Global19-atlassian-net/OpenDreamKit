{
 "cells": [
  {
   "cell_type": "markdown",
   "metadata": {},
   "source": [
    "2-dimensional hard core model\n",
    "==========================\n",
    "\n",
    "WP5: big matrix multiplication example\n",
    "\n",
    "<img src=\"hard_core.png\" alt=\"Hard core 30x30 example\" style=\"float:right;width:200px;\"/> The hard core model is a discrete model of repulsing particles from statistical physics. Counting configurations in a square reduces to integer matrix multiplication. More precisely, the number of configurations in a $n \\times n$ square is a $(n-1)$-th power of a matrix of size $F_n \\times F_n$ where $F_n$ is the Fibonnaci sequence $1,2,3,5,8,\\ldots$\n",
    "\n",
    "This sequence can be found at <a href=\"https://oeis.org/A006506\">OEIS A006506</a>.\n",
    "\n",
    "\n",
    "The matrices\n",
    "------------------"
   ]
  },
  {
   "cell_type": "code",
   "execution_count": 2,
   "metadata": {},
   "outputs": [],
   "source": [
    "@cached_method\n",
    "def fibo_mat(n):\n",
    "    if n == 0:\n",
    "        return matrix(1, [1])\n",
    "    elif n == 1:\n",
    "        return matrix(2,[1,1,1,0])\n",
    "    else:\n",
    "        f0 = fibonacci(n)\n",
    "        f1 = fibonacci(n+1)\n",
    "        m = matrix(fibonacci(n+2))\n",
    "        m[:f1, :f1] = fibo_mat(n-1)\n",
    "        m[f1:, :f1] = m[:f0, :f1]\n",
    "        m[:f1:, f1:] = m[:f1, :f0]\n",
    "        m.set_immutable()\n",
    "        return m"
   ]
  },
  {
   "cell_type": "code",
   "execution_count": 3,
   "metadata": {},
   "outputs": [
    {
     "name": "stdout",
     "output_type": "stream",
     "text": [
      "[1 1 1]\n",
      "[1 0 1]\n",
      "[1 1 0]\n"
     ]
    }
   ],
   "source": [
    "print fibo_mat(2)"
   ]
  },
  {
   "cell_type": "code",
   "execution_count": 4,
   "metadata": {},
   "outputs": [
    {
     "name": "stdout",
     "output_type": "stream",
     "text": [
      "[1 1 1 1 1]\n",
      "[1 0 1 1 0]\n",
      "[1 1 0 1 1]\n",
      "[1 1 1 0 0]\n",
      "[1 0 1 0 0]\n"
     ]
    }
   ],
   "source": [
    "print fibo_mat(3)"
   ]
  },
  {
   "cell_type": "code",
   "execution_count": 5,
   "metadata": {},
   "outputs": [
    {
     "name": "stdout",
     "output_type": "stream",
     "text": [
      "[1 1 1 1 1 1 1 1]\n",
      "[1 0 1 1 0 1 0 1]\n",
      "[1 1 0 1 1 1 1 0]\n",
      "[1 1 1 0 0 1 1 1]\n",
      "[1 0 1 0 0 1 0 1]\n",
      "[1 1 1 1 1 0 0 0]\n",
      "[1 0 1 1 0 0 0 0]\n",
      "[1 1 0 1 1 0 0 0]\n"
     ]
    }
   ],
   "source": [
    "print fibo_mat(4)"
   ]
  },
  {
   "cell_type": "code",
   "execution_count": null,
   "metadata": {},
   "outputs": [],
   "source": []
  },
  {
   "cell_type": "code",
   "execution_count": null,
   "metadata": {},
   "outputs": [],
   "source": []
  },
  {
   "cell_type": "markdown",
   "metadata": {},
   "source": [
    "The sequence\n",
    "--------------------\n",
    "\n",
    "Recall that for each positive integer $n$ we want to compute the number of hard core configurations in an $n \\times n$ square"
   ]
  },
  {
   "cell_type": "code",
   "execution_count": 137,
   "metadata": {},
   "outputs": [
    {
     "name": "stdout",
     "output_type": "stream",
     "text": [
      "1 2\n",
      "2 7\n",
      "3 63\n",
      "4 1234\n",
      "5 55447\n",
      "6 5598861\n",
      "7 1280128950\n",
      "8 660647962955\n",
      "9 770548397261707\n"
     ]
    }
   ],
   "source": [
    "for k in range(1,10):\n",
    "    m = fibo_mat(k)\n",
    "    print k, sum(sum(fibo_mat(k)**(k-1)))"
   ]
  },
  {
   "cell_type": "code",
   "execution_count": null,
   "metadata": {},
   "outputs": [],
   "source": []
  },
  {
   "cell_type": "markdown",
   "metadata": {},
   "source": [
    "How WP5 had helped integer matrix multiplication\n",
    "---------------------------------------------------------------------"
   ]
  },
  {
   "cell_type": "code",
   "execution_count": 142,
   "metadata": {},
   "outputs": [
    {
     "name": "stdout",
     "output_type": "stream",
     "text": [
      "987\n",
      "CPU times: user 5.04 s, sys: 91.6 ms, total: 5.13 s\n",
      "Wall time: 5.14 s\n",
      "338752110195939290445247645371206783\n"
     ]
    }
   ],
   "source": [
    "k = 14\n",
    "F = fibo_mat(k)\n",
    "print F.nrows()\n",
    "%time P = F ** (k-1)\n",
    "print sum(sum(P))"
   ]
  },
  {
   "cell_type": "code",
   "execution_count": 144,
   "metadata": {},
   "outputs": [
    {
     "name": "stdout",
     "output_type": "stream",
     "text": [
      "1597\n",
      "CPU times: user 21.8 s, sys: 194 ms, total: 22 s\n",
      "Wall time: 22 s\n",
      "52521741712869136440040654451875316861275\n"
     ]
    }
   ],
   "source": [
    "k = 15\n",
    "F = fibo_mat(k)\n",
    "print F.nrows()\n",
    "%time P = F ** (k-1)\n",
    "print sum(sum(P))"
   ]
  },
  {
   "cell_type": "code",
   "execution_count": null,
   "metadata": {},
   "outputs": [],
   "source": []
  },
  {
   "cell_type": "code",
   "execution_count": 146,
   "metadata": {},
   "outputs": [
    {
     "name": "stdout",
     "output_type": "stream",
     "text": [
      "CPU times: user 1.05 s, sys: 3.39 ms, total: 1.06 s\n",
      "Wall time: 1.07 s\n"
     ]
    }
   ],
   "source": [
    "%time R = F._multiply_multi_modular(F)"
   ]
  },
  {
   "cell_type": "code",
   "execution_count": 147,
   "metadata": {},
   "outputs": [
    {
     "name": "stdout",
     "output_type": "stream",
     "text": [
      "CPU times: user 1.76 s, sys: 1.03 ms, total: 1.76 s\n",
      "Wall time: 1.77 s\n"
     ]
    }
   ],
   "source": [
    "%time R = F*F"
   ]
  },
  {
   "cell_type": "code",
   "execution_count": null,
   "metadata": {},
   "outputs": [],
   "source": []
  }
 ],
 "metadata": {
  "kernelspec": {
   "display_name": "SageMath 8.4",
   "language": "",
   "name": "sagemath"
  },
  "language_info": {
   "codemirror_mode": {
    "name": "ipython",
    "version": 2
   },
   "file_extension": ".py",
   "mimetype": "text/x-python",
   "name": "python",
   "nbconvert_exporter": "python",
   "pygments_lexer": "ipython2",
   "version": "2.7.15"
  }
 },
 "nbformat": 4,
 "nbformat_minor": 2
}
