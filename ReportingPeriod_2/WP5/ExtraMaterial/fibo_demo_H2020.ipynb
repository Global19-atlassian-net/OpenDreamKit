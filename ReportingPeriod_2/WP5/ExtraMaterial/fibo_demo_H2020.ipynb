{
 "cells": [
  {
   "cell_type": "markdown",
   "metadata": {},
   "source": [
    "2-dimensional hard core model\n",
    "==========================\n",
    "\n",
    "WP5: big matrix multiplication example\n",
    "\n",
    "<img src=\"hard_core.png\" alt=\"Hard core 30x30 example\" style=\"float:right;width:200px;\"/> The hard core model is a discrete model of repulsing particles from statistical physics. Counting configurations in a square reduces to integer matrix multiplication. More precisely, the number of configurations in a $n \\times n$ square is a $(n-1)$-th power of a matrix of size $F_n \\times F_n$ where $F_n$ is the Fibonnaci sequence $1,2,3,5,8,\\ldots$\n",
    "\n",
    "This sequence can be found at <a href=\"https://oeis.org/A006506\">OEIS A006506</a>.\n",
    "\n",
    "\n",
    "The matrices\n",
    "------------------"
   ]
  },
  {
   "cell_type": "code",
   "execution_count": 30,
   "metadata": {},
   "outputs": [],
   "source": [
    "@cached_method\n",
    "def fibo_mat(n):\n",
    "    if n == 0:\n",
    "        return matrix(1, [1])\n",
    "    elif n == 1:\n",
    "        return matrix(2,[1,1,1,0])\n",
    "    else:\n",
    "        f0 = fibonacci(n)\n",
    "        f1 = fibonacci(n+1)\n",
    "        m = matrix(fibonacci(n+2))\n",
    "        m[:f1, :f1] = fibo_mat(n-1)\n",
    "        m[f1:, :f1] = m[:f0, :f1]\n",
    "        m[:f1:, f1:] = m[:f1, :f0]\n",
    "        m.set_immutable()\n",
    "        return m"
   ]
  },
  {
   "cell_type": "code",
   "execution_count": 31,
   "metadata": {},
   "outputs": [
    {
     "name": "stdout",
     "output_type": "stream",
     "text": [
      "[1 1 1]\n",
      "[1 0 1]\n",
      "[1 1 0]\n"
     ]
    }
   ],
   "source": [
    "print fibo_mat(2)"
   ]
  },
  {
   "cell_type": "code",
   "execution_count": 32,
   "metadata": {},
   "outputs": [
    {
     "name": "stdout",
     "output_type": "stream",
     "text": [
      "[1 1 1 1 1]\n",
      "[1 0 1 1 0]\n",
      "[1 1 0 1 1]\n",
      "[1 1 1 0 0]\n",
      "[1 0 1 0 0]\n"
     ]
    }
   ],
   "source": [
    "print fibo_mat(3)"
   ]
  },
  {
   "cell_type": "code",
   "execution_count": null,
   "metadata": {},
   "outputs": [],
   "source": []
  },
  {
   "cell_type": "markdown",
   "metadata": {},
   "source": [
    "The sequence\n",
    "--------------------\n",
    "\n",
    "Recall that for each positive integer $n$ we want to compute the number of hard core configurations in an $n \\times n$ square"
   ]
  },
  {
   "cell_type": "code",
   "execution_count": 33,
   "metadata": {},
   "outputs": [
    {
     "name": "stdout",
     "output_type": "stream",
     "text": [
      "1 2\n",
      "2 7\n",
      "3 63\n",
      "4 1234\n",
      "5 55447\n",
      "6 5598861\n",
      "7 1280128950\n",
      "8 660647962955\n",
      "9 770548397261707\n"
     ]
    }
   ],
   "source": [
    "for k in range(1,10):\n",
    "    m = fibo_mat(k)\n",
    "    print k, sum(sum(fibo_mat(k)**(k-1)))"
   ]
  },
  {
   "cell_type": "code",
   "execution_count": null,
   "metadata": {},
   "outputs": [],
   "source": []
  },
  {
   "cell_type": "markdown",
   "metadata": {},
   "source": [
    "How WP5 improved matrix multiplication\n",
    "---------------------------------------------------------"
   ]
  },
  {
   "cell_type": "code",
   "execution_count": 23,
   "metadata": {},
   "outputs": [],
   "source": [
    "from sage.arith.power import generic_power"
   ]
  },
  {
   "cell_type": "code",
   "execution_count": 26,
   "metadata": {},
   "outputs": [
    {
     "name": "stdout",
     "output_type": "stream",
     "text": [
      "2584\n"
     ]
    }
   ],
   "source": [
    "k = 16\n",
    "F = fibo_mat(k)\n",
    "print F.nrows()"
   ]
  },
  {
   "cell_type": "code",
   "execution_count": 25,
   "metadata": {},
   "outputs": [],
   "source": [
    "mul = type(F)._multiply_multi_modular"
   ]
  },
  {
   "cell_type": "code",
   "execution_count": 27,
   "metadata": {},
   "outputs": [
    {
     "name": "stdout",
     "output_type": "stream",
     "text": [
      "CPU times: user 1min 36s, sys: 489 ms, total: 1min 36s\n",
      "Wall time: 1min 36s\n"
     ]
    }
   ],
   "source": [
    "%time P = F ** (k-1)"
   ]
  },
  {
   "cell_type": "code",
   "execution_count": 28,
   "metadata": {},
   "outputs": [
    {
     "name": "stdout",
     "output_type": "stream",
     "text": [
      "CPU times: user 1min 27s, sys: 544 ms, total: 1min 27s\n",
      "Wall time: 1min 27s\n"
     ]
    }
   ],
   "source": [
    "%time P = generic_power(F, k-1, operator.mul)"
   ]
  },
  {
   "cell_type": "code",
   "execution_count": 29,
   "metadata": {},
   "outputs": [
    {
     "name": "stdout",
     "output_type": "stream",
     "text": [
      "CPU times: user 54.4 s, sys: 5.38 s, total: 59.8 s\n",
      "Wall time: 45.7 s\n"
     ]
    }
   ],
   "source": [
    "%time P = generic_power(F, k-1, mul)"
   ]
  },
  {
   "cell_type": "code",
   "execution_count": null,
   "metadata": {},
   "outputs": [],
   "source": []
  },
  {
   "cell_type": "code",
   "execution_count": null,
   "metadata": {},
   "outputs": [],
   "source": []
  }
 ],
 "metadata": {
  "kernelspec": {
   "display_name": "SageMath 8.5.beta1",
   "language": "",
   "name": "sagemath"
  },
  "language_info": {
   "codemirror_mode": {
    "name": "ipython",
    "version": 2
   },
   "file_extension": ".py",
   "mimetype": "text/x-python",
   "name": "python",
   "nbconvert_exporter": "python",
   "pygments_lexer": "ipython2",
   "version": "2.7.15"
  }
 },
 "nbformat": 4,
 "nbformat_minor": 2
}
