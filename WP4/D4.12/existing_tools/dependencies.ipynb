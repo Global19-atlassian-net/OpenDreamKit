{
 "cells": [
  {
   "cell_type": "code",
   "execution_count": 1,
   "metadata": {
    "collapsed": false,
    "deletable": true,
    "editable": true
   },
   "outputs": [],
   "source": [
    "import graphviz as gv"
   ]
  },
  {
   "cell_type": "markdown",
   "metadata": {
    "deletable": true,
    "editable": true
   },
   "source": [
    "### Define some utility functions for working with graphviz:"
   ]
  },
  {
   "cell_type": "code",
   "execution_count": 2,
   "metadata": {
    "collapsed": true,
    "deletable": true,
    "editable": true
   },
   "outputs": [],
   "source": [
    "def graph(styles=None, **kwargs):\n",
    "    g = gv.Digraph(format='svg', engine='dot.bat', **kwargs)\n",
    "    if styles:\n",
    "        g.graph_attr.update(styles)\n",
    "    return g\n",
    "\n",
    "def add_nodes(graph, nodes):\n",
    "    for n in nodes:\n",
    "        if isinstance(n, tuple):\n",
    "            graph.node(n[0], **n[1])\n",
    "        else:\n",
    "            graph.node(n)\n",
    "    return graph\n",
    "\n",
    "def add_edges(graph, edges):\n",
    "    for e in edges:\n",
    "        if isinstance(e[0], tuple):\n",
    "            graph.edge(*e[0], **e[1])\n",
    "        else:\n",
    "            graph.edge(*e)\n",
    "    return graph\n",
    "\n",
    "def add_edges_reversed(graph, edges):\n",
    "    for e in edges:\n",
    "        if isinstance(e[0], tuple):\n",
    "            graph.edge(*reversed(e[0]), **e[1])\n",
    "        else:\n",
    "            graph.edge(*reversed(e))\n",
    "    return graph\n",
    "\n",
    "def apply_styles(graph, styles):\n",
    "    graph.graph_attr.update(\n",
    "        ('graph' in styles and styles['graph']) or {}\n",
    "    )\n",
    "    graph.node_attr.update(\n",
    "        ('nodes' in styles and styles['nodes']) or {}\n",
    "    )\n",
    "    graph.edge_attr.update(\n",
    "        ('edges' in styles and styles['edges']) or {}\n",
    "    )\n",
    "    return graph"
   ]
  },
  {
   "cell_type": "markdown",
   "metadata": {
    "deletable": true,
    "editable": true
   },
   "source": [
    "### Nodes (with individual styles):"
   ]
  },
  {
   "cell_type": "code",
   "execution_count": 3,
   "metadata": {
    "collapsed": false,
    "deletable": true,
    "editable": true
   },
   "outputs": [],
   "source": [
    "browser_nodes = [\n",
    "    ('WebGL', dict(style='filled', fillcolor='lightblue')),\n",
    "    ('ThreeJS', dict(style='filled', fillcolor='lightblue')),\n",
    "    ('x3dom', dict(style='filled', fillcolor='lightblue')),\n",
    "    ('vtk.js', dict(style='filled', fillcolor='lightblue')),\n",
    "    'GlowScript',\n",
    "    'K3D',\n",
    "    ('ParaViewWeb', dict(style='filled', fillcolor='beige')),\n",
    "    ('SciviJS', dict(style='filled', fillcolor='beige')),\n",
    "]\n",
    "\n",
    "kernel_nodes = [\n",
    "    'PyThreeJS',\n",
    "    'Mayavi',\n",
    "    'VisPy.gloo',\n",
    "    'K3D-Jupyter',\n",
    "    'VPython',\n",
    "    'Sage.plot3d',\n",
    "    'IPyVolume',\n",
    "    'VisPy.scene'\n",
    "]"
   ]
  },
  {
   "cell_type": "markdown",
   "metadata": {
    "deletable": true,
    "editable": true
   },
   "source": [
    "### Dependencies:"
   ]
  },
  {
   "cell_type": "code",
   "execution_count": 4,
   "metadata": {
    "collapsed": true,
    "deletable": true,
    "editable": true
   },
   "outputs": [],
   "source": [
    "web_intra_dependencies = [\n",
    "    ('ThreeJS', 'WebGL'),\n",
    "    ('x3dom', 'WebGL'),\n",
    "    ('vtk.js', 'WebGL'),\n",
    "    ('GlowScript', 'WebGL'),\n",
    "    ('K3D', 'ThreeJS'),\n",
    "    ('ParaViewWeb', 'ThreeJS'),\n",
    "    ('ParaViewWeb', 'vtk.js'),\n",
    "    ('SciviJS', 'ThreeJS'),\n",
    "]\n",
    "\n",
    "kernel_intra_dependencies = [\n",
    "    ('IPyVolume', 'PyThreeJS'),\n",
    "    ('VisPy.scene', 'VisPy.gloo'),\n",
    "]\n",
    "\n",
    "# Labels define how the two sides communicate:\n",
    "kernel_browser_dependencies = [\n",
    "    (('PyThreeJS', 'ThreeJS'), {'label': 'IPyWidgets sync'}),\n",
    "    (('Mayavi', 'x3dom'), {'label': 'Static HTML'}),\n",
    "    (('VisPy.gloo', 'WebGL'), {'label': 'Comm'}),\n",
    "    (('K3D-Jupyter', 'K3D'), {'label': 'IPyWidgets sync'}),\n",
    "    (('VPython', 'GlowScript'), {'label': 'Comm'}),\n",
    "    (('Sage.plot3d', 'ThreeJS'), {'label': 'Static HTML'}),\n",
    "]"
   ]
  },
  {
   "cell_type": "markdown",
   "metadata": {
    "deletable": true,
    "editable": true
   },
   "source": [
    "### Combine into a graph with two clusters:"
   ]
  },
  {
   "cell_type": "code",
   "execution_count": 5,
   "metadata": {
    "collapsed": false,
    "deletable": true,
    "editable": true,
    "scrolled": false
   },
   "outputs": [
    {
     "data": {
      "image/svg+xml": [
       "<?xml version=\"1.0\" encoding=\"UTF-8\" standalone=\"no\"?>\r\n",
       "<!DOCTYPE svg PUBLIC \"-//W3C//DTD SVG 1.1//EN\"\r\n",
       " \"http://www.w3.org/Graphics/SVG/1.1/DTD/svg11.dtd\">\r\n",
       "<!-- Generated by graphviz version 2.38.0 (20140413.2041)\r\n",
       " -->\r\n",
       "<!-- Title: %3 Pages: 1 -->\r\n",
       "<svg width=\"736pt\" height=\"478pt\"\r\n",
       " viewBox=\"0.00 0.00 736.00 478.00\" xmlns=\"http://www.w3.org/2000/svg\" xmlns:xlink=\"http://www.w3.org/1999/xlink\">\r\n",
       "<g id=\"graph0\" class=\"graph\" transform=\"scale(1 1) rotate(0) translate(4 474)\">\r\n",
       "<title>%3</title>\r\n",
       "<polygon fill=\"white\" stroke=\"none\" points=\"-4,4 -4,-474 732,-474 732,4 -4,4\"/>\r\n",
       "<g id=\"clust1\" class=\"cluster\"><title>cluster0</title>\r\n",
       "<polygon fill=\"none\" stroke=\"black\" points=\"8,-220 8,-462 376,-462 376,-220 8,-220\"/>\r\n",
       "<text text-anchor=\"middle\" x=\"192\" y=\"-446.8\" font-family=\"Times New Roman,serif\" font-size=\"14.00\">Browser</text>\r\n",
       "</g>\r\n",
       "<g id=\"clust2\" class=\"cluster\"><title>cluster1</title>\r\n",
       "<polygon fill=\"none\" stroke=\"black\" points=\"493,-8 493,-360 720,-360 720,-8 493,-8\"/>\r\n",
       "<text text-anchor=\"middle\" x=\"606.5\" y=\"-344.8\" font-family=\"Times New Roman,serif\" font-size=\"14.00\">Kernel</text>\r\n",
       "</g>\r\n",
       "<!-- WebGL -->\r\n",
       "<g id=\"node1\" class=\"node\"><title>WebGL</title>\r\n",
       "<polygon fill=\"lightblue\" stroke=\"black\" points=\"16,-284 16,-320 78,-320 78,-284 16,-284\"/>\r\n",
       "<text text-anchor=\"middle\" x=\"47\" y=\"-298.3\" font-family=\"Times New Roman,serif\" font-size=\"14.00\">WebGL</text>\r\n",
       "</g>\r\n",
       "<!-- ThreeJS -->\r\n",
       "<g id=\"node2\" class=\"node\"><title>ThreeJS</title>\r\n",
       "<polygon fill=\"lightblue\" stroke=\"black\" points=\"124.5,-339 124.5,-375 186.5,-375 186.5,-339 124.5,-339\"/>\r\n",
       "<text text-anchor=\"middle\" x=\"155.5\" y=\"-353.3\" font-family=\"Times New Roman,serif\" font-size=\"14.00\">ThreeJS</text>\r\n",
       "</g>\r\n",
       "<!-- WebGL&#45;&gt;ThreeJS -->\r\n",
       "<g id=\"edge1\" class=\"edge\"><title>WebGL&#45;&gt;ThreeJS</title>\r\n",
       "<path fill=\"none\" stroke=\"black\" d=\"M87.3,-322.296C99.4838,-328.588 112.716,-335.421 124.191,-341.347\"/>\r\n",
       "<polygon fill=\"black\" stroke=\"black\" points=\"88.7249,-319.092 78.2338,-317.614 85.5129,-325.312 88.7249,-319.092\"/>\r\n",
       "</g>\r\n",
       "<!-- x3dom -->\r\n",
       "<g id=\"node3\" class=\"node\"><title>x3dom</title>\r\n",
       "<polygon fill=\"lightblue\" stroke=\"black\" points=\"127.5,-229 127.5,-265 183.5,-265 183.5,-229 127.5,-229\"/>\r\n",
       "<text text-anchor=\"middle\" x=\"155.5\" y=\"-243.3\" font-family=\"Times New Roman,serif\" font-size=\"14.00\">x3dom</text>\r\n",
       "</g>\r\n",
       "<!-- WebGL&#45;&gt;x3dom -->\r\n",
       "<g id=\"edge2\" class=\"edge\"><title>WebGL&#45;&gt;x3dom</title>\r\n",
       "<path fill=\"none\" stroke=\"black\" d=\"M87.2449,-281.733C100.62,-274.826 115.263,-267.263 127.462,-260.963\"/>\r\n",
       "<polygon fill=\"black\" stroke=\"black\" points=\"85.5129,-278.688 78.2338,-286.386 88.7249,-284.908 85.5129,-278.688\"/>\r\n",
       "</g>\r\n",
       "<!-- vtk.js -->\r\n",
       "<g id=\"node4\" class=\"node\"><title>vtk.js</title>\r\n",
       "<polygon fill=\"lightblue\" stroke=\"black\" points=\"128.5,-394 128.5,-430 182.5,-430 182.5,-394 128.5,-394\"/>\r\n",
       "<text text-anchor=\"middle\" x=\"155.5\" y=\"-408.3\" font-family=\"Times New Roman,serif\" font-size=\"14.00\">vtk.js</text>\r\n",
       "</g>\r\n",
       "<!-- WebGL&#45;&gt;vtk.js -->\r\n",
       "<g id=\"edge3\" class=\"edge\"><title>WebGL&#45;&gt;vtk.js</title>\r\n",
       "<path fill=\"none\" stroke=\"black\" d=\"M66.334,-328.58C78.9016,-345.754 96.5791,-367.989 115,-385 119.028,-388.719 123.604,-392.316 128.178,-395.605\"/>\r\n",
       "<polygon fill=\"black\" stroke=\"black\" points=\"68.9288,-326.193 60.251,-320.115 63.2442,-330.278 68.9288,-326.193\"/>\r\n",
       "</g>\r\n",
       "<!-- GlowScript -->\r\n",
       "<g id=\"node5\" class=\"node\"><title>GlowScript</title>\r\n",
       "<polygon fill=\"none\" stroke=\"black\" points=\"115,-284 115,-320 196,-320 196,-284 115,-284\"/>\r\n",
       "<text text-anchor=\"middle\" x=\"155.5\" y=\"-298.3\" font-family=\"Times New Roman,serif\" font-size=\"14.00\">GlowScript</text>\r\n",
       "</g>\r\n",
       "<!-- WebGL&#45;&gt;GlowScript -->\r\n",
       "<g id=\"edge4\" class=\"edge\"><title>WebGL&#45;&gt;GlowScript</title>\r\n",
       "<path fill=\"none\" stroke=\"black\" d=\"M88.4115,-302C97.0016,-302 106.066,-302 114.635,-302\"/>\r\n",
       "<polygon fill=\"black\" stroke=\"black\" points=\"88.2338,-298.5 78.2338,-302 88.2337,-305.5 88.2338,-298.5\"/>\r\n",
       "</g>\r\n",
       "<!-- VisPy.gloo -->\r\n",
       "<g id=\"node11\" class=\"node\"><title>VisPy.gloo</title>\r\n",
       "<polygon fill=\"none\" stroke=\"black\" points=\"505.5,-17 505.5,-53 584.5,-53 584.5,-17 505.5,-17\"/>\r\n",
       "<text text-anchor=\"middle\" x=\"545\" y=\"-31.3\" font-family=\"Times New Roman,serif\" font-size=\"14.00\">VisPy.gloo</text>\r\n",
       "</g>\r\n",
       "<!-- WebGL&#45;&gt;VisPy.gloo -->\r\n",
       "<g id=\"edge13\" class=\"edge\"><title>WebGL&#45;&gt;VisPy.gloo</title>\r\n",
       "<path fill=\"none\" stroke=\"black\" d=\"M61.7937,-274.704C86.2079,-229.149 141.38,-137.729 214,-88 303.887,-26.4456 439.426,-26.6717 505.307,-31.1674\"/>\r\n",
       "<polygon fill=\"black\" stroke=\"black\" points=\"58.6202,-273.219 57.0556,-283.697 64.8133,-276.481 58.6202,-273.219\"/>\r\n",
       "<text text-anchor=\"middle\" x=\"233.5\" y=\"-91.8\" font-family=\"Times New Roman,serif\" font-size=\"14.00\" fill=\"red\">Comm</text>\r\n",
       "</g>\r\n",
       "<!-- K3D -->\r\n",
       "<g id=\"node6\" class=\"node\"><title>K3D</title>\r\n",
       "<polygon fill=\"none\" stroke=\"black\" points=\"292.5,-284 292.5,-320 346.5,-320 346.5,-284 292.5,-284\"/>\r\n",
       "<text text-anchor=\"middle\" x=\"319.5\" y=\"-298.3\" font-family=\"Times New Roman,serif\" font-size=\"14.00\">K3D</text>\r\n",
       "</g>\r\n",
       "<!-- ThreeJS&#45;&gt;K3D -->\r\n",
       "<g id=\"edge5\" class=\"edge\"><title>ThreeJS&#45;&gt;K3D</title>\r\n",
       "<path fill=\"none\" stroke=\"black\" d=\"M196.309,-343.485C226.223,-333.329 266.351,-319.705 292.317,-310.889\"/>\r\n",
       "<polygon fill=\"black\" stroke=\"black\" points=\"194.935,-340.255 186.591,-346.784 197.186,-346.883 194.935,-340.255\"/>\r\n",
       "</g>\r\n",
       "<!-- ParaViewWeb -->\r\n",
       "<g id=\"node7\" class=\"node\"><title>ParaViewWeb</title>\r\n",
       "<polygon fill=\"beige\" stroke=\"black\" points=\"271,-394 271,-430 368,-430 368,-394 271,-394\"/>\r\n",
       "<text text-anchor=\"middle\" x=\"319.5\" y=\"-408.3\" font-family=\"Times New Roman,serif\" font-size=\"14.00\">ParaViewWeb</text>\r\n",
       "</g>\r\n",
       "<!-- ThreeJS&#45;&gt;ParaViewWeb -->\r\n",
       "<g id=\"edge6\" class=\"edge\"><title>ThreeJS&#45;&gt;ParaViewWeb</title>\r\n",
       "<path fill=\"none\" stroke=\"black\" d=\"M196.171,-370.468C218.686,-378.112 247.02,-387.732 270.749,-395.788\"/>\r\n",
       "<polygon fill=\"black\" stroke=\"black\" points=\"197.186,-367.117 186.591,-367.216 194.935,-373.745 197.186,-367.117\"/>\r\n",
       "</g>\r\n",
       "<!-- SciviJS -->\r\n",
       "<g id=\"node8\" class=\"node\"><title>SciviJS</title>\r\n",
       "<polygon fill=\"beige\" stroke=\"black\" points=\"290.5,-339 290.5,-375 348.5,-375 348.5,-339 290.5,-339\"/>\r\n",
       "<text text-anchor=\"middle\" x=\"319.5\" y=\"-353.3\" font-family=\"Times New Roman,serif\" font-size=\"14.00\">SciviJS</text>\r\n",
       "</g>\r\n",
       "<!-- ThreeJS&#45;&gt;SciviJS -->\r\n",
       "<g id=\"edge8\" class=\"edge\"><title>ThreeJS&#45;&gt;SciviJS</title>\r\n",
       "<path fill=\"none\" stroke=\"black\" d=\"M196.86,-357C226.01,-357 264.636,-357 290.466,-357\"/>\r\n",
       "<polygon fill=\"black\" stroke=\"black\" points=\"196.591,-353.5 186.591,-357 196.591,-360.5 196.591,-353.5\"/>\r\n",
       "</g>\r\n",
       "<!-- PyThreeJS -->\r\n",
       "<g id=\"node9\" class=\"node\"><title>PyThreeJS</title>\r\n",
       "<polygon fill=\"none\" stroke=\"black\" points=\"506.5,-237 506.5,-273 583.5,-273 583.5,-237 506.5,-237\"/>\r\n",
       "<text text-anchor=\"middle\" x=\"545\" y=\"-251.3\" font-family=\"Times New Roman,serif\" font-size=\"14.00\">PyThreeJS</text>\r\n",
       "</g>\r\n",
       "<!-- ThreeJS&#45;&gt;PyThreeJS -->\r\n",
       "<g id=\"edge11\" class=\"edge\"><title>ThreeJS&#45;&gt;PyThreeJS</title>\r\n",
       "<path fill=\"none\" stroke=\"black\" d=\"M192.39,-332.825C193.618,-331.884 194.825,-330.941 196,-330 231.59,-301.498 228.735,-277.108 271,-260 349.653,-228.163 451.787,-238.403 506.11,-247.444\"/>\r\n",
       "<polygon fill=\"black\" stroke=\"black\" points=\"190.067,-330.188 184.087,-338.935 194.216,-335.826 190.067,-330.188\"/>\r\n",
       "<text text-anchor=\"middle\" x=\"319.5\" y=\"-263.8\" font-family=\"Times New Roman,serif\" font-size=\"14.00\" fill=\"red\">IPyWidgets sync</text>\r\n",
       "</g>\r\n",
       "<!-- Sage.plot3d -->\r\n",
       "<g id=\"node14\" class=\"node\"><title>Sage.plot3d</title>\r\n",
       "<polygon fill=\"none\" stroke=\"black\" points=\"503.5,-182 503.5,-218 586.5,-218 586.5,-182 503.5,-182\"/>\r\n",
       "<text text-anchor=\"middle\" x=\"545\" y=\"-196.3\" font-family=\"Times New Roman,serif\" font-size=\"14.00\">Sage.plot3d</text>\r\n",
       "</g>\r\n",
       "<!-- ThreeJS&#45;&gt;Sage.plot3d -->\r\n",
       "<g id=\"edge16\" class=\"edge\"><title>ThreeJS&#45;&gt;Sage.plot3d</title>\r\n",
       "<path fill=\"none\" stroke=\"black\" d=\"M193.926,-332.673C194.655,-331.803 195.348,-330.912 196,-330 213.434,-305.615 197.414,-289.969 214,-265 231.859,-238.114 240.916,-231.693 271,-220 348.737,-189.785 448.192,-191.598 503.054,-195.726\"/>\r\n",
       "<polygon fill=\"black\" stroke=\"black\" points=\"191.251,-330.396 186.596,-339.913 196.17,-335.376 191.251,-330.396\"/>\r\n",
       "<text text-anchor=\"middle\" x=\"319.5\" y=\"-223.8\" font-family=\"Times New Roman,serif\" font-size=\"14.00\" fill=\"red\">Static HTML</text>\r\n",
       "</g>\r\n",
       "<!-- Mayavi -->\r\n",
       "<g id=\"node10\" class=\"node\"><title>Mayavi</title>\r\n",
       "<polygon fill=\"none\" stroke=\"black\" points=\"516.5,-72 516.5,-108 573.5,-108 573.5,-72 516.5,-72\"/>\r\n",
       "<text text-anchor=\"middle\" x=\"545\" y=\"-86.3\" font-family=\"Times New Roman,serif\" font-size=\"14.00\">Mayavi</text>\r\n",
       "</g>\r\n",
       "<!-- x3dom&#45;&gt;Mayavi -->\r\n",
       "<g id=\"edge12\" class=\"edge\"><title>x3dom&#45;&gt;Mayavi</title>\r\n",
       "<path fill=\"none\" stroke=\"black\" d=\"M164.181,-219.097C172.567,-193.369 188.338,-155.684 214,-132 299.094,-53.4645 453.321,-72.1844 516.193,-83.9925\"/>\r\n",
       "<polygon fill=\"black\" stroke=\"black\" points=\"160.735,-218.395 161.129,-228.983 167.424,-220.46 160.735,-218.395\"/>\r\n",
       "<text text-anchor=\"middle\" x=\"319.5\" y=\"-99.8\" font-family=\"Times New Roman,serif\" font-size=\"14.00\" fill=\"red\">Static HTML</text>\r\n",
       "</g>\r\n",
       "<!-- vtk.js&#45;&gt;ParaViewWeb -->\r\n",
       "<g id=\"edge7\" class=\"edge\"><title>vtk.js&#45;&gt;ParaViewWeb</title>\r\n",
       "<path fill=\"none\" stroke=\"black\" d=\"M192.597,-412C215.7,-412 245.926,-412 270.972,-412\"/>\r\n",
       "<polygon fill=\"black\" stroke=\"black\" points=\"192.528,-408.5 182.528,-412 192.528,-415.5 192.528,-408.5\"/>\r\n",
       "</g>\r\n",
       "<!-- VPython -->\r\n",
       "<g id=\"node13\" class=\"node\"><title>VPython</title>\r\n",
       "<polygon fill=\"none\" stroke=\"black\" points=\"512,-127 512,-163 578,-163 578,-127 512,-127\"/>\r\n",
       "<text text-anchor=\"middle\" x=\"545\" y=\"-141.3\" font-family=\"Times New Roman,serif\" font-size=\"14.00\">VPython</text>\r\n",
       "</g>\r\n",
       "<!-- GlowScript&#45;&gt;VPython -->\r\n",
       "<g id=\"edge15\" class=\"edge\"><title>GlowScript&#45;&gt;VPython</title>\r\n",
       "<path fill=\"none\" stroke=\"black\" d=\"M195.186,-276.182C195.465,-275.793 195.737,-275.398 196,-275 218.502,-240.975 187.961,-216.4 214,-185 286.849,-97.1524 444.062,-121.155 511.834,-136.626\"/>\r\n",
       "<polygon fill=\"black\" stroke=\"black\" points=\"192.473,-273.965 188.377,-283.736 197.672,-278.651 192.473,-273.965\"/>\r\n",
       "<text text-anchor=\"middle\" x=\"319.5\" y=\"-146.8\" font-family=\"Times New Roman,serif\" font-size=\"14.00\" fill=\"red\">Comm</text>\r\n",
       "</g>\r\n",
       "<!-- K3D&#45;Jupyter -->\r\n",
       "<g id=\"node12\" class=\"node\"><title>K3D&#45;Jupyter</title>\r\n",
       "<polygon fill=\"none\" stroke=\"black\" points=\"501,-292 501,-328 589,-328 589,-292 501,-292\"/>\r\n",
       "<text text-anchor=\"middle\" x=\"545\" y=\"-306.3\" font-family=\"Times New Roman,serif\" font-size=\"14.00\">K3D&#45;Jupyter</text>\r\n",
       "</g>\r\n",
       "<!-- K3D&#45;&gt;K3D&#45;Jupyter -->\r\n",
       "<g id=\"edge14\" class=\"edge\"><title>K3D&#45;&gt;K3D&#45;Jupyter</title>\r\n",
       "<path fill=\"none\" stroke=\"black\" d=\"M356.781,-303.299C396.162,-304.708 459.014,-306.958 500.885,-308.457\"/>\r\n",
       "<polygon fill=\"black\" stroke=\"black\" points=\"356.695,-299.793 346.576,-302.933 356.444,-306.789 356.695,-299.793\"/>\r\n",
       "<text text-anchor=\"middle\" x=\"434.5\" y=\"-310.8\" font-family=\"Times New Roman,serif\" font-size=\"14.00\" fill=\"red\">IPyWidgets sync</text>\r\n",
       "</g>\r\n",
       "<!-- IPyVolume -->\r\n",
       "<g id=\"node15\" class=\"node\"><title>IPyVolume</title>\r\n",
       "<polygon fill=\"none\" stroke=\"black\" points=\"629,-237 629,-273 709,-273 709,-237 629,-237\"/>\r\n",
       "<text text-anchor=\"middle\" x=\"669\" y=\"-251.3\" font-family=\"Times New Roman,serif\" font-size=\"14.00\">IPyVolume</text>\r\n",
       "</g>\r\n",
       "<!-- PyThreeJS&#45;&gt;IPyVolume -->\r\n",
       "<g id=\"edge9\" class=\"edge\"><title>PyThreeJS&#45;&gt;IPyVolume</title>\r\n",
       "<path fill=\"none\" stroke=\"black\" d=\"M593.925,-255C605.421,-255 617.567,-255 628.624,-255\"/>\r\n",
       "<polygon fill=\"black\" stroke=\"black\" points=\"593.6,-251.5 583.6,-255 593.599,-258.5 593.6,-251.5\"/>\r\n",
       "</g>\r\n",
       "<!-- VisPy.scene -->\r\n",
       "<g id=\"node16\" class=\"node\"><title>VisPy.scene</title>\r\n",
       "<polygon fill=\"none\" stroke=\"black\" points=\"626,-17 626,-53 712,-53 712,-17 626,-17\"/>\r\n",
       "<text text-anchor=\"middle\" x=\"669\" y=\"-31.3\" font-family=\"Times New Roman,serif\" font-size=\"14.00\">VisPy.scene</text>\r\n",
       "</g>\r\n",
       "<!-- VisPy.gloo&#45;&gt;VisPy.scene -->\r\n",
       "<g id=\"edge10\" class=\"edge\"><title>VisPy.gloo&#45;&gt;VisPy.scene</title>\r\n",
       "<path fill=\"none\" stroke=\"black\" d=\"M594.7,-35C605.007,-35 615.803,-35 625.844,-35\"/>\r\n",
       "<polygon fill=\"black\" stroke=\"black\" points=\"594.602,-31.5001 584.602,-35 594.602,-38.5001 594.602,-31.5001\"/>\r\n",
       "</g>\r\n",
       "</g>\r\n",
       "</svg>\r\n"
      ],
      "text/plain": [
       "<graphviz.dot.Digraph at 0x2abcc1592e8>"
      ]
     },
     "execution_count": 5,
     "metadata": {},
     "output_type": "execute_result"
    }
   ],
   "source": [
    "g_browser = apply_styles(\n",
    "    add_nodes(graph(name='cluster0'), browser_nodes),\n",
    "    {\n",
    "        'graph': {\n",
    "            'label': 'Browser',\n",
    "        },\n",
    "        'nodes': {\n",
    "            'shape': 'record',\n",
    "        }\n",
    "    }\n",
    ")\n",
    "g_kernel = apply_styles(\n",
    "    add_nodes(graph(name='cluster1'), kernel_nodes),\n",
    "    {\n",
    "        'graph': {\n",
    "            'label': 'Kernel',\n",
    "        },\n",
    "        'nodes': {\n",
    "            'shape': 'record',\n",
    "        }\n",
    "    }\n",
    ")\n",
    "\n",
    "add_edges_reversed(g_browser, web_intra_dependencies)\n",
    "add_edges_reversed(g_kernel, kernel_intra_dependencies)\n",
    "\n",
    "g = apply_styles(\n",
    "    graph(),\n",
    "    {\n",
    "        'graph': dict(rankdir='LR'),\n",
    "        'edges': dict(fontcolor='red', dir='back')\n",
    "    }\n",
    ")\n",
    "g.subgraph(g_browser)\n",
    "g.subgraph(g_kernel)\n",
    "add_edges_reversed(g, kernel_browser_dependencies)"
   ]
  },
  {
   "cell_type": "markdown",
   "metadata": {
    "deletable": true,
    "editable": true
   },
   "source": [
    "### Output:"
   ]
  },
  {
   "cell_type": "markdown",
   "metadata": {
    "deletable": true,
    "editable": true
   },
   "source": [
    "Run to save as `dependencies.svg`:"
   ]
  },
  {
   "cell_type": "code",
   "execution_count": 6,
   "metadata": {
    "collapsed": false,
    "deletable": true,
    "editable": true
   },
   "outputs": [
    {
     "data": {
      "text/plain": [
       "'dependencies.svg'"
      ]
     },
     "execution_count": 6,
     "metadata": {},
     "output_type": "execute_result"
    }
   ],
   "source": [
    "g.render(filename='dependencies')"
   ]
  },
  {
   "cell_type": "markdown",
   "metadata": {
    "deletable": true,
    "editable": true
   },
   "source": [
    "Run to output DOT graph syntax as text:"
   ]
  },
  {
   "cell_type": "code",
   "execution_count": 7,
   "metadata": {
    "collapsed": false,
    "deletable": true,
    "editable": true
   },
   "outputs": [
    {
     "name": "stdout",
     "output_type": "stream",
     "text": [
      "digraph {\n",
      "\tgraph [rankdir=LR]\n",
      "\tedge [dir=back fontcolor=red]\n",
      "\t\tsubgraph cluster0 {\n",
      "\t\t\tgraph [label=Browser]\n",
      "\t\t\tnode [shape=record]\n",
      "\t\t\t\tWebGL [fillcolor=lightblue style=filled]\n",
      "\t\t\t\tThreeJS [fillcolor=lightblue style=filled]\n",
      "\t\t\t\tx3dom [fillcolor=lightblue style=filled]\n",
      "\t\t\t\t\"vtk.js\" [fillcolor=lightblue style=filled]\n",
      "\t\t\t\tGlowScript\n",
      "\t\t\t\tK3D\n",
      "\t\t\t\tParaViewWeb [fillcolor=beige style=filled]\n",
      "\t\t\t\tSciviJS [fillcolor=beige style=filled]\n",
      "\t\t\t\t\tWebGL -> ThreeJS\n",
      "\t\t\t\t\tWebGL -> x3dom\n",
      "\t\t\t\t\tWebGL -> \"vtk.js\"\n",
      "\t\t\t\t\tWebGL -> GlowScript\n",
      "\t\t\t\t\tThreeJS -> K3D\n",
      "\t\t\t\t\tThreeJS -> ParaViewWeb\n",
      "\t\t\t\t\t\"vtk.js\" -> ParaViewWeb\n",
      "\t\t\t\t\tThreeJS -> SciviJS\n",
      "\t\t}\n",
      "\t\tsubgraph cluster1 {\n",
      "\t\t\tgraph [label=Kernel]\n",
      "\t\t\tnode [shape=record]\n",
      "\t\t\t\tPyThreeJS\n",
      "\t\t\t\tMayavi\n",
      "\t\t\t\t\"VisPy.gloo\"\n",
      "\t\t\t\t\"K3D-Jupyter\"\n",
      "\t\t\t\tVPython\n",
      "\t\t\t\t\"Sage.plot3d\"\n",
      "\t\t\t\tIPyVolume\n",
      "\t\t\t\t\"VisPy.scene\"\n",
      "\t\t\t\t\tPyThreeJS -> IPyVolume\n",
      "\t\t\t\t\t\"VisPy.gloo\" -> \"VisPy.scene\"\n",
      "\t\t}\n",
      "\t\t\tThreeJS -> PyThreeJS [label=\"IPyWidgets sync\"]\n",
      "\t\t\tx3dom -> Mayavi [label=\"Static HTML\"]\n",
      "\t\t\tWebGL -> \"VisPy.gloo\" [label=Comm]\n",
      "\t\t\tK3D -> \"K3D-Jupyter\" [label=\"IPyWidgets sync\"]\n",
      "\t\t\tGlowScript -> VPython [label=Comm]\n",
      "\t\t\tThreeJS -> \"Sage.plot3d\" [label=\"Static HTML\"]\n",
      "}\n"
     ]
    }
   ],
   "source": [
    "print(g)"
   ]
  }
 ],
 "metadata": {
  "kernelspec": {
   "display_name": "Python 3",
   "language": "python",
   "name": "python3"
  },
  "language_info": {
   "codemirror_mode": {
    "name": "ipython",
    "version": 3
   },
   "file_extension": ".py",
   "mimetype": "text/x-python",
   "name": "python",
   "nbconvert_exporter": "python",
   "pygments_lexer": "ipython3",
   "version": "3.5.2"
  }
 },
 "nbformat": 4,
 "nbformat_minor": 2
}
