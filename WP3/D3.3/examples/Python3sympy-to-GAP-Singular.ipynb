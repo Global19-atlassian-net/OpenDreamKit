{
 "cells": [
  {
   "cell_type": "code",
   "execution_count": 28,
   "metadata": {
    "collapsed": true
   },
   "outputs": [],
   "source": [
    "import sympy"
   ]
  },
  {
   "cell_type": "code",
   "execution_count": 29,
   "metadata": {
    "collapsed": true
   },
   "outputs": [],
   "source": [
    "from scscp import SCSCPCLI"
   ]
  },
  {
   "cell_type": "code",
   "execution_count": 30,
   "metadata": {
    "collapsed": false
   },
   "outputs": [],
   "source": [
    "from sympy.polys.modulargcd import modgcd_multivariate"
   ]
  },
  {
   "cell_type": "code",
   "execution_count": 31,
   "metadata": {
    "collapsed": true
   },
   "outputs": [],
   "source": [
    "from sympy.polys import ring, ZZ, QQ"
   ]
  },
  {
   "cell_type": "code",
   "execution_count": 32,
   "metadata": {
    "collapsed": true
   },
   "outputs": [],
   "source": [
    "R, x, y, z = ring(\"x, y, z\", ZZ)"
   ]
  },
  {
   "cell_type": "code",
   "execution_count": 33,
   "metadata": {
    "collapsed": false
   },
   "outputs": [],
   "source": [
    "f = (x*y-z)*(x*y*z+y**2*z+x**2*z)"
   ]
  },
  {
   "cell_type": "code",
   "execution_count": 34,
   "metadata": {
    "collapsed": false
   },
   "outputs": [
    {
     "data": {
      "text/plain": [
       "x**3*y*z + x**2*y**2*z - x**2*z**2 + x*y**3*z - x*y*z**2 - y**2*z**2"
      ]
     },
     "execution_count": 34,
     "metadata": {},
     "output_type": "execute_result"
    }
   ],
   "source": [
    "f"
   ]
  },
  {
   "cell_type": "code",
   "execution_count": 35,
   "metadata": {
    "collapsed": true
   },
   "outputs": [],
   "source": [
    "g = (x*y-z)*(x*y*z**2+x*y**2*z+x**2*y*z);"
   ]
  },
  {
   "cell_type": "code",
   "execution_count": 36,
   "metadata": {
    "collapsed": false
   },
   "outputs": [
    {
     "data": {
      "text/plain": [
       "x**3*y**2*z + x**2*y**3*z + x**2*y**2*z**2 - x**2*y*z**2 - x*y**2*z**2 - x*y*z**3"
      ]
     },
     "execution_count": 36,
     "metadata": {},
     "output_type": "execute_result"
    }
   ],
   "source": [
    "g"
   ]
  },
  {
   "cell_type": "code",
   "execution_count": 37,
   "metadata": {
    "collapsed": false
   },
   "outputs": [],
   "source": [
    "h, cff, cfg = modgcd_multivariate(f, g)"
   ]
  },
  {
   "cell_type": "code",
   "execution_count": 38,
   "metadata": {
    "collapsed": false
   },
   "outputs": [
    {
     "data": {
      "text/plain": [
       "x*y*z - z**2"
      ]
     },
     "execution_count": 38,
     "metadata": {},
     "output_type": "execute_result"
    }
   ],
   "source": [
    "h"
   ]
  },
  {
   "cell_type": "code",
   "execution_count": 39,
   "metadata": {
    "collapsed": false
   },
   "outputs": [
    {
     "data": {
      "text/plain": [
       "x**3*y**2*z + x**2*y**3*z + x**2*y**2*z**2 - x**2*y*z**2 - x*y**2*z**2 - x*y*z**3"
      ]
     },
     "execution_count": 39,
     "metadata": {},
     "output_type": "execute_result"
    }
   ],
   "source": [
    "g"
   ]
  },
  {
   "cell_type": "code",
   "execution_count": 40,
   "metadata": {
    "collapsed": false
   },
   "outputs": [
    {
     "data": {
      "text/plain": [
       "[1, 1, 1, -1, -1, -1]"
      ]
     },
     "execution_count": 40,
     "metadata": {},
     "output_type": "execute_result"
    }
   ],
   "source": [
    "g.coeffs()"
   ]
  },
  {
   "cell_type": "code",
   "execution_count": 41,
   "metadata": {
    "collapsed": false
   },
   "outputs": [],
   "source": [
    "mons = [ list(x) for x in g.monoms() ]"
   ]
  },
  {
   "cell_type": "code",
   "execution_count": 42,
   "metadata": {
    "collapsed": false
   },
   "outputs": [
    {
     "data": {
      "text/plain": [
       "[[3, 2, 1], [2, 3, 1], [2, 2, 2], [2, 1, 2], [1, 2, 2], [1, 1, 3]]"
      ]
     },
     "execution_count": 42,
     "metadata": {},
     "output_type": "execute_result"
    }
   ],
   "source": [
    "mons"
   ]
  },
  {
   "cell_type": "code",
   "execution_count": 43,
   "metadata": {
    "collapsed": false
   },
   "outputs": [],
   "source": [
    "c = SCSCPCLI('localhost')"
   ]
  },
  {
   "cell_type": "code",
   "execution_count": 44,
   "metadata": {
    "collapsed": false
   },
   "outputs": [
    {
     "data": {
      "text/plain": [
       "[[3, 2, 1], [2, 3, 1], [2, 2, 2], [2, 1, 2], [1, 2, 2], [1, 1, 3]]"
      ]
     },
     "execution_count": 44,
     "metadata": {},
     "output_type": "execute_result"
    }
   ],
   "source": [
    "c.heads.scscp_transient_1.Identity([mons])"
   ]
  },
  {
   "cell_type": "code",
   "execution_count": 45,
   "metadata": {
    "collapsed": false
   },
   "outputs": [],
   "source": [
    "c.quit()"
   ]
  },
  {
   "cell_type": "code",
   "execution_count": 46,
   "metadata": {
    "collapsed": true
   },
   "outputs": [],
   "source": [
    "R, x0, x1, x2, x3 = ring(\"x0, x1, x2, x3\", ZZ)"
   ]
  },
  {
   "cell_type": "code",
   "execution_count": 47,
   "metadata": {
    "collapsed": true
   },
   "outputs": [],
   "source": [
    "f1=x0+x1+x2+x3\n",
    "f2=x0*x1+x1*x2+x0*x3+x2*x3\n",
    "f3=x0*x1*x2+x0*x1*x3+x0*x2*x3+x1*x2*x3\n",
    "f4=x0*x1*x2*x3-1"
   ]
  },
  {
   "cell_type": "code",
   "execution_count": 48,
   "metadata": {
    "collapsed": false
   },
   "outputs": [
    {
     "name": "stdout",
     "output_type": "stream",
     "text": [
      "CPU times: user 7.6 ms, sys: 120 µs, total: 7.72 ms\n",
      "Wall time: 7.7 ms\n"
     ]
    },
    {
     "data": {
      "text/plain": [
       "[x0 + x1 + x2 + x3,\n",
       " x1**2 + 2*x1*x3 + x3**2,\n",
       " x1*x2 - x1*x3 + x2**2*x3**4 + x2*x3 - 2*x3**2,\n",
       " x1*x3**4 - x1 + x3**5 - x3,\n",
       " x2**3*x3**2 + x2**2*x3**3 - x2 - x3,\n",
       " x2**2*x3**6 - x2**2*x3**2 - x3**4 + 1]"
      ]
     },
     "execution_count": 48,
     "metadata": {},
     "output_type": "execute_result"
    }
   ],
   "source": [
    "time(sympy.polys.groebnertools.groebner([f1,f2,f3,f4],R))"
   ]
  },
  {
   "cell_type": "code",
   "execution_count": 49,
   "metadata": {
    "collapsed": true
   },
   "outputs": [],
   "source": [
    "R, x0, x1, x2, x3, x4 = ring(\"x0, x1, x2, x3, x4\", ZZ)"
   ]
  },
  {
   "cell_type": "code",
   "execution_count": 50,
   "metadata": {
    "collapsed": false
   },
   "outputs": [],
   "source": [
    "f1=x0+x1+x2+x3+x4\n",
    "f2=x0*x1+x1*x2+x2*x3+x0*x4+x3*x4\n",
    "f3=x0*x1*x2+x1*x2*x3+x0*x1*x4+x0*x3*x4+x2*x3*x4\n",
    "f4=x0*x1*x2*x3+x0*x1*x2*x4+x0*x1*x3*x4+x0*x2*x3*x4+x1*x2*x3*x4\n",
    "f5=x0*x1*x2*x3*x4-1"
   ]
  },
  {
   "cell_type": "code",
   "execution_count": 51,
   "metadata": {
    "collapsed": false
   },
   "outputs": [
    {
     "name": "stdout",
     "output_type": "stream",
     "text": [
      "CPU times: user 1min 50s, sys: 521 ms, total: 1min 51s\n",
      "Wall time: 1min 53s\n"
     ]
    },
    {
     "data": {
      "text/plain": [
       "[x0 + x1 + x2 + x3 + x4,\n",
       " 275*x1**2 + 825*x1*x4 + 550*x3**6*x4 + 1650*x3**5*x4**2 + 275*x3**4*x4**3 - 550*x3**3*x4**4 + 275*x3**2 - 566*x3*x4**11 - 69003*x3*x4**6 + 69019*x3*x4 - 1467*x4**12 - 178981*x4**7 + 179073*x4**2,\n",
       " 275*x1*x2 - 275*x1*x4 + 275*x2**2 + 550*x2*x4 - 330*x3**6*x4 - 1045*x3**5*x4**2 - 275*x3**4*x4**3 + 275*x3**3*x4**4 - 550*x3**2 + 334*x3*x4**11 + 40722*x3*x4**6 - 40726*x3*x4 + 867*x4**12 + 105776*x4**7 - 105873*x4**2,\n",
       " 275*x1*x3 - 275*x1*x4 - 110*x3**6*x4 - 440*x3**5*x4**2 - 275*x3**4*x4**3 + 275*x3**3*x4**4 + 124*x3*x4**11 + 15092*x3*x4**6 - 15106*x3*x4 + 346*x4**12 + 42218*x4**7 - 42124*x4**2,\n",
       " 55*x1*x4**5 - 55*x1 + x4**11 + 143*x4**6 - 144*x4,\n",
       " 275*x2**3 + 550*x2**2*x4 - 550*x2*x4**2 + 275*x3**6*x4**2 + 550*x3**5*x4**3 - 550*x3**4*x4**4 + 550*x3**2*x4 - 232*x3*x4**12 - 28336*x3*x4**7 + 28018*x3*x4**2 - 568*x4**13 - 69289*x4**8 + 69307*x4**3,\n",
       " 275*x2*x3 - 275*x2*x4 + 440*x3**6*x4 + 1210*x3**5*x4**2 - 275*x3**3*x4**4 + 275*x3**2 - 442*x3*x4**11 - 53911*x3*x4**6 + 53913*x3*x4 - 1121*x4**12 - 136763*x4**7 + 136674*x4**2,\n",
       " 55*x2*x4**5 - 55*x2 + x4**11 + 143*x4**6 - 144*x4,\n",
       " 55*x3**7 + 165*x3**6*x4 + 55*x3**5*x4**2 - 55*x3**2 - 398*x3*x4**11 - 48554*x3*x4**6 + 48787*x3*x4 - 1042*x4**12 - 127116*x4**7 + 128103*x4**2,\n",
       " 55*x3**2*x4**5 - 55*x3**2 - 2*x3*x4**11 - 231*x3*x4**6 + 233*x3*x4 - 8*x4**12 - 979*x4**7 + 987*x4**2,\n",
       " x4**15 + 122*x4**10 - 122*x4**5 - 1]"
      ]
     },
     "execution_count": 51,
     "metadata": {},
     "output_type": "execute_result"
    }
   ],
   "source": [
    "time(sympy.polys.groebnertools.groebner([f1,f2,f3,f4,f5],R))"
   ]
  },
  {
   "cell_type": "code",
   "execution_count": null,
   "metadata": {
    "collapsed": true
   },
   "outputs": [],
   "source": []
  }
 ],
 "metadata": {
  "kernelspec": {
   "display_name": "Python 3",
   "language": "python",
   "name": "python3"
  },
  "language_info": {
   "codemirror_mode": {
    "name": "ipython",
    "version": 3
   },
   "file_extension": ".py",
   "mimetype": "text/x-python",
   "name": "python",
   "nbconvert_exporter": "python",
   "pygments_lexer": "ipython3",
   "version": "3.5.1"
  }
 },
 "nbformat": 4,
 "nbformat_minor": 2
}
