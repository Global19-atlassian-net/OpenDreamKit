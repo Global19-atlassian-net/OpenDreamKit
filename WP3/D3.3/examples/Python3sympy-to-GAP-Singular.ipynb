{
 "cells": [
  {
   "cell_type": "markdown",
   "metadata": {},
   "source": [
    "# Example: SCSCP client in Python3 calculates Groebner basis with Singular"
   ]
  },
  {
   "cell_type": "markdown",
   "metadata": {},
   "source": [
    "SymPy (http://www.sympy.org/) operates with multivariate polynomials and implements Groebner basis calculation. In this example we demonstrate the alternative of computing Groebner basis connecting to GAP SCSCP server that will pass it on to Singular."
   ]
  },
  {
   "cell_type": "code",
   "execution_count": 1,
   "metadata": {
    "collapsed": true,
    "deletable": true,
    "editable": true
   },
   "outputs": [],
   "source": [
    "import sympy"
   ]
  },
  {
   "cell_type": "code",
   "execution_count": 2,
   "metadata": {
    "collapsed": true,
    "deletable": true,
    "editable": true
   },
   "outputs": [],
   "source": [
    "from sympy.polys import ring, ZZ, QQ"
   ]
  },
  {
   "cell_type": "code",
   "execution_count": 3,
   "metadata": {
    "collapsed": true,
    "deletable": true,
    "editable": true
   },
   "outputs": [],
   "source": [
    "from scscp import SCSCPCLI"
   ]
  },
  {
   "cell_type": "markdown",
   "metadata": {},
   "source": [
    "* Create a multivariate polynomial"
   ]
  },
  {
   "cell_type": "code",
   "execution_count": 4,
   "metadata": {
    "collapsed": true,
    "deletable": true,
    "editable": true
   },
   "outputs": [],
   "source": [
    "R, x, y, z = ring(\"x, y, z\", ZZ)"
   ]
  },
  {
   "cell_type": "code",
   "execution_count": 5,
   "metadata": {
    "collapsed": false,
    "deletable": true,
    "editable": true
   },
   "outputs": [],
   "source": [
    "f = x*y*z+y**2*z+x**2*z+1"
   ]
  },
  {
   "cell_type": "code",
   "execution_count": 6,
   "metadata": {
    "collapsed": false,
    "deletable": true,
    "editable": true
   },
   "outputs": [
    {
     "data": {
      "text/plain": [
       "x**2*z + x*y*z + y**2*z + 1"
      ]
     },
     "execution_count": 6,
     "metadata": {},
     "output_type": "execute_result"
    }
   ],
   "source": [
    "f"
   ]
  },
  {
   "cell_type": "markdown",
   "metadata": {},
   "source": [
    "* Presently SymPy does not implement OpenMath support for polynomials, so we will be passing their external representation instead"
   ]
  },
  {
   "cell_type": "code",
   "execution_count": 7,
   "metadata": {
    "collapsed": true
   },
   "outputs": [],
   "source": [
    "coeffs = f.coeffs()"
   ]
  },
  {
   "cell_type": "code",
   "execution_count": 8,
   "metadata": {
    "collapsed": false,
    "deletable": true,
    "editable": true
   },
   "outputs": [
    {
     "data": {
      "text/plain": [
       "[1, 1, 1, 1]"
      ]
     },
     "execution_count": 8,
     "metadata": {},
     "output_type": "execute_result"
    }
   ],
   "source": [
    "coeffs"
   ]
  },
  {
   "cell_type": "code",
   "execution_count": 9,
   "metadata": {
    "collapsed": false,
    "deletable": true,
    "editable": true
   },
   "outputs": [],
   "source": [
    "mons = [ list(x) for x in f.monoms() ]"
   ]
  },
  {
   "cell_type": "code",
   "execution_count": 10,
   "metadata": {
    "collapsed": false,
    "deletable": true,
    "editable": true
   },
   "outputs": [
    {
     "data": {
      "text/plain": [
       "[[2, 0, 1], [1, 1, 1], [0, 2, 1], [0, 0, 0]]"
      ]
     },
     "execution_count": 10,
     "metadata": {},
     "output_type": "execute_result"
    }
   ],
   "source": [
    "mons"
   ]
  },
  {
   "cell_type": "markdown",
   "metadata": {},
   "source": [
    "* Thus, we can have two functions to convert between the polynomials and its external representation"
   ]
  },
  {
   "cell_type": "code",
   "execution_count": 11,
   "metadata": {
    "collapsed": true
   },
   "outputs": [],
   "source": [
    "def ext_rep_poly(f):\n",
    "    return [ f.coeffs(), [ list(x) for x in f.monoms() ] ]"
   ]
  },
  {
   "cell_type": "code",
   "execution_count": 12,
   "metadata": {
    "collapsed": true
   },
   "outputs": [],
   "source": [
    "from numpy import prod\n",
    "def construct_poly(R,extrep):\n",
    "    g = R.gens\n",
    "    coeffs = extrep[0]\n",
    "    mons = extrep[1]\n",
    "    return sum ( [ coeffs[m]*prod([g[i]**mons[m][i] for i in range(len(g))]) for m in range(len(mons))] )"
   ]
  },
  {
   "cell_type": "code",
   "execution_count": 13,
   "metadata": {
    "collapsed": false
   },
   "outputs": [],
   "source": [
    "g = construct_poly(R,ext_rep_poly(f))"
   ]
  },
  {
   "cell_type": "code",
   "execution_count": 14,
   "metadata": {
    "collapsed": false
   },
   "outputs": [
    {
     "data": {
      "text/plain": [
       "True"
      ]
     },
     "execution_count": 14,
     "metadata": {},
     "output_type": "execute_result"
    }
   ],
   "source": [
    "f == g"
   ]
  },
  {
   "cell_type": "markdown",
   "metadata": {},
   "source": [
    "* Similar functions are defined on the GAP SCSCP server. Let's test that we can send polynomials back and forth"
   ]
  },
  {
   "cell_type": "code",
   "execution_count": 15,
   "metadata": {
    "collapsed": false,
    "deletable": true,
    "editable": true
   },
   "outputs": [],
   "source": [
    "c = SCSCPCLI('localhost')"
   ]
  },
  {
   "cell_type": "code",
   "execution_count": 16,
   "metadata": {
    "collapsed": false,
    "deletable": true,
    "editable": true
   },
   "outputs": [
    {
     "data": {
      "text/plain": [
       "True"
      ]
     },
     "execution_count": 16,
     "metadata": {},
     "output_type": "execute_result"
    }
   ],
   "source": [
    "f == construct_poly(R, c.heads.scscp_transient_1.PingPongPoly([ ext_rep_poly(f)]))"
   ]
  },
  {
   "cell_type": "code",
   "execution_count": 17,
   "metadata": {
    "collapsed": false,
    "deletable": true,
    "editable": true
   },
   "outputs": [],
   "source": [
    "c.quit()"
   ]
  },
  {
   "cell_type": "markdown",
   "metadata": {},
   "source": [
    "* Now a small example of a Groebner basis computation"
   ]
  },
  {
   "cell_type": "code",
   "execution_count": 18,
   "metadata": {
    "collapsed": true,
    "deletable": true,
    "editable": true
   },
   "outputs": [],
   "source": [
    "R, x0, x1, x2, x3 = ring(\"x0, x1, x2, x3\", ZZ)"
   ]
  },
  {
   "cell_type": "code",
   "execution_count": 19,
   "metadata": {
    "collapsed": true,
    "deletable": true,
    "editable": true
   },
   "outputs": [],
   "source": [
    "f1=x0+x1+x2+x3\n",
    "f2=x0*x1+x1*x2+x0*x3+x2*x3\n",
    "f3=x0*x1*x2+x0*x1*x3+x0*x2*x3+x1*x2*x3\n",
    "f4=x0*x1*x2*x3-1"
   ]
  },
  {
   "cell_type": "code",
   "execution_count": 20,
   "metadata": {
    "collapsed": false,
    "deletable": true,
    "editable": true
   },
   "outputs": [
    {
     "name": "stdout",
     "output_type": "stream",
     "text": [
      "CPU times: user 9.42 ms, sys: 473 µs, total: 9.89 ms\n",
      "Wall time: 9.64 ms\n"
     ]
    },
    {
     "data": {
      "text/plain": [
       "[x0 + x1 + x2 + x3,\n",
       " x1**2 + 2*x1*x3 + x3**2,\n",
       " x1*x2 - x1*x3 + x2**2*x3**4 + x2*x3 - 2*x3**2,\n",
       " x1*x3**4 - x1 + x3**5 - x3,\n",
       " x2**3*x3**2 + x2**2*x3**3 - x2 - x3,\n",
       " x2**2*x3**6 - x2**2*x3**2 - x3**4 + 1]"
      ]
     },
     "execution_count": 20,
     "metadata": {},
     "output_type": "execute_result"
    }
   ],
   "source": [
    "time(sympy.polys.groebnertools.groebner([f1,f2,f3,f4],R))"
   ]
  },
  {
   "cell_type": "markdown",
   "metadata": {},
   "source": [
    "* The same example using remote procedure call"
   ]
  },
  {
   "cell_type": "code",
   "execution_count": 21,
   "metadata": {
    "collapsed": false
   },
   "outputs": [],
   "source": [
    "c = SCSCPCLI('localhost')"
   ]
  },
  {
   "cell_type": "markdown",
   "metadata": {},
   "source": [
    "* Just another check for passing polynomials around"
   ]
  },
  {
   "cell_type": "code",
   "execution_count": 22,
   "metadata": {
    "collapsed": false
   },
   "outputs": [
    {
     "data": {
      "text/plain": [
       "True"
      ]
     },
     "execution_count": 22,
     "metadata": {},
     "output_type": "execute_result"
    }
   ],
   "source": [
    "all( t == construct_poly(R, c.heads.scscp_transient_1.PingPongPoly([ ext_rep_poly(t)])) for t in [f1,f2,f3,f4] )"
   ]
  },
  {
   "cell_type": "markdown",
   "metadata": {},
   "source": [
    "* Now actual procedure call"
   ]
  },
  {
   "cell_type": "code",
   "execution_count": 23,
   "metadata": {
    "collapsed": false
   },
   "outputs": [],
   "source": [
    "bas = c.heads.scscp_transient_1.GroebnerBasisWithSingular( [ [ ext_rep_poly(x) for x in [f1,f2,f3,f4] ] ] )"
   ]
  },
  {
   "cell_type": "markdown",
   "metadata": {},
   "source": [
    "* Convert result to SymPy polynomials"
   ]
  },
  {
   "cell_type": "code",
   "execution_count": 24,
   "metadata": {
    "collapsed": false,
    "scrolled": true
   },
   "outputs": [
    {
     "data": {
      "text/plain": [
       "[x0 + x1 + x2 + x3,\n",
       " x1**2 + 2*x1*x3 + x3**2,\n",
       " x1*x2**2 - x1*x3**2 + x2**2*x3 - x3**3,\n",
       " x1*x2*x3**2 - x1*x3**3 + x2**2*x3**2 + x2*x3**3 - x3**4 - 1,\n",
       " x1*x3**4 - x1 + x3**5 - x3,\n",
       " x2**3*x3**2 + x2**2*x3**3 - x2 - x3,\n",
       " x1*x2 - x1*x3 + x2**2*x3**4 + x2*x3 - 2*x3**2]"
      ]
     },
     "execution_count": 24,
     "metadata": {},
     "output_type": "execute_result"
    }
   ],
   "source": [
    "[ construct_poly(R,t) for t in bas ]"
   ]
  },
  {
   "cell_type": "code",
   "execution_count": 25,
   "metadata": {
    "collapsed": true
   },
   "outputs": [],
   "source": [
    "c.quit()"
   ]
  },
  {
   "cell_type": "markdown",
   "metadata": {},
   "source": [
    "* In the next example, Singular performs much faster"
   ]
  },
  {
   "cell_type": "code",
   "execution_count": 26,
   "metadata": {
    "collapsed": true,
    "deletable": true,
    "editable": true
   },
   "outputs": [],
   "source": [
    "R, x0, x1, x2, x3, x4 = ring(\"x0, x1, x2, x3, x4\", ZZ)"
   ]
  },
  {
   "cell_type": "code",
   "execution_count": 27,
   "metadata": {
    "collapsed": false,
    "deletable": true,
    "editable": true
   },
   "outputs": [],
   "source": [
    "f1=x0+x1+x2+x3+x4\n",
    "f2=x0*x1+x1*x2+x2*x3+x0*x4+x3*x4\n",
    "f3=x0*x1*x2+x1*x2*x3+x0*x1*x4+x0*x3*x4+x2*x3*x4\n",
    "f4=x0*x1*x2*x3+x0*x1*x2*x4+x0*x1*x3*x4+x0*x2*x3*x4+x1*x2*x3*x4\n",
    "f5=x0*x1*x2*x3*x4-1"
   ]
  },
  {
   "cell_type": "markdown",
   "metadata": {},
   "source": [
    "* Local calculation with SymPy"
   ]
  },
  {
   "cell_type": "code",
   "execution_count": 28,
   "metadata": {
    "collapsed": false,
    "deletable": true,
    "editable": true
   },
   "outputs": [
    {
     "name": "stdout",
     "output_type": "stream",
     "text": [
      "CPU times: user 1min 56s, sys: 915 ms, total: 1min 57s\n",
      "Wall time: 1min 59s\n"
     ]
    },
    {
     "data": {
      "text/plain": [
       "[x0 + x1 + x2 + x3 + x4,\n",
       " 275*x1**2 + 825*x1*x4 + 550*x3**6*x4 + 1650*x3**5*x4**2 + 275*x3**4*x4**3 - 550*x3**3*x4**4 + 275*x3**2 - 566*x3*x4**11 - 69003*x3*x4**6 + 69019*x3*x4 - 1467*x4**12 - 178981*x4**7 + 179073*x4**2,\n",
       " 275*x1*x2 - 275*x1*x4 + 275*x2**2 + 550*x2*x4 - 330*x3**6*x4 - 1045*x3**5*x4**2 - 275*x3**4*x4**3 + 275*x3**3*x4**4 - 550*x3**2 + 334*x3*x4**11 + 40722*x3*x4**6 - 40726*x3*x4 + 867*x4**12 + 105776*x4**7 - 105873*x4**2,\n",
       " 275*x1*x3 - 275*x1*x4 - 110*x3**6*x4 - 440*x3**5*x4**2 - 275*x3**4*x4**3 + 275*x3**3*x4**4 + 124*x3*x4**11 + 15092*x3*x4**6 - 15106*x3*x4 + 346*x4**12 + 42218*x4**7 - 42124*x4**2,\n",
       " 55*x1*x4**5 - 55*x1 + x4**11 + 143*x4**6 - 144*x4,\n",
       " 275*x2**3 + 550*x2**2*x4 - 550*x2*x4**2 + 275*x3**6*x4**2 + 550*x3**5*x4**3 - 550*x3**4*x4**4 + 550*x3**2*x4 - 232*x3*x4**12 - 28336*x3*x4**7 + 28018*x3*x4**2 - 568*x4**13 - 69289*x4**8 + 69307*x4**3,\n",
       " 275*x2*x3 - 275*x2*x4 + 440*x3**6*x4 + 1210*x3**5*x4**2 - 275*x3**3*x4**4 + 275*x3**2 - 442*x3*x4**11 - 53911*x3*x4**6 + 53913*x3*x4 - 1121*x4**12 - 136763*x4**7 + 136674*x4**2,\n",
       " 55*x2*x4**5 - 55*x2 + x4**11 + 143*x4**6 - 144*x4,\n",
       " 55*x3**7 + 165*x3**6*x4 + 55*x3**5*x4**2 - 55*x3**2 - 398*x3*x4**11 - 48554*x3*x4**6 + 48787*x3*x4 - 1042*x4**12 - 127116*x4**7 + 128103*x4**2,\n",
       " 55*x3**2*x4**5 - 55*x3**2 - 2*x3*x4**11 - 231*x3*x4**6 + 233*x3*x4 - 8*x4**12 - 979*x4**7 + 987*x4**2,\n",
       " x4**15 + 122*x4**10 - 122*x4**5 - 1]"
      ]
     },
     "execution_count": 28,
     "metadata": {},
     "output_type": "execute_result"
    }
   ],
   "source": [
    "time(sympy.polys.groebnertools.groebner([f1,f2,f3,f4,f5],R))"
   ]
  },
  {
   "cell_type": "markdown",
   "metadata": {},
   "source": [
    "* Remote calculation with Singular"
   ]
  },
  {
   "cell_type": "code",
   "execution_count": 29,
   "metadata": {
    "collapsed": false
   },
   "outputs": [],
   "source": [
    "c = SCSCPCLI('localhost')"
   ]
  },
  {
   "cell_type": "code",
   "execution_count": 30,
   "metadata": {
    "collapsed": false
   },
   "outputs": [
    {
     "data": {
      "text/plain": [
       "True"
      ]
     },
     "execution_count": 30,
     "metadata": {},
     "output_type": "execute_result"
    }
   ],
   "source": [
    "all( t == construct_poly(R, c.heads.scscp_transient_1.PingPongPoly([ ext_rep_poly(t)])) for t in [f1,f2,f3,f4,f5] )"
   ]
  },
  {
   "cell_type": "code",
   "execution_count": 31,
   "metadata": {
    "collapsed": false
   },
   "outputs": [
    {
     "name": "stdout",
     "output_type": "stream",
     "text": [
      "CPU times: user 5.85 s, sys: 21.9 ms, total: 5.87 s\n",
      "Wall time: 6.01 s\n"
     ]
    },
    {
     "data": {
      "text/plain": [
       "[x0 + x1 + x2 + x3 + x4,\n",
       " x1**2 + x1*x3 + 2*x1*x4 - x2*x3 + x2*x4 + x4**2,\n",
       " x1*x2*x3 - 2*x1*x3**2 - 2*x1*x3*x4 + 3*x1*x4**2 + x2**3 + 3*x2**2*x4 - x2*x3**2 - 2*x2*x3*x4 + 3*x2*x4**2 - x3**3 - 3*x3**2*x4 - 2*x3*x4**2 + 2*x4**3,\n",
       " x1*x2**2 - x1*x2*x3 + x1*x3*x4 - x1*x4**2 + x2**2*x3 - x2**2*x4 + x2*x3*x4 - 2*x2*x4**2 + x3**2*x4 + x3*x4**2 - x4**3,\n",
       " 14*x1*x2*x3*x4 - x1*x2*x4**2 - 27*x1*x3**2*x4 - 10*x1*x3*x4**2 + 24*x1*x4**3 + 6*x2**2*x3*x4 + 7*x2**2*x4**2 + 2*x2*x3**2*x4 - 9*x2*x3*x4**2 + 33*x2*x4**3 + x3**4 - 15*x3**3*x4 - 33*x3**2*x4**2 - 14*x3*x4**3 + 22*x4**4,\n",
       " 32*x1*x2*x3*x4 - 24*x1*x2*x4**2 - 40*x1*x3**2*x4 - 12*x1*x3*x4**2 + 44*x1*x4**3 + 11*x2**2*x3*x4 - 3*x2**2*x4**2 + 19*x2*x3**3 + 10*x2*x3**2*x4 - 45*x2*x3*x4**2 + 32*x2*x4**3 + 5*x3**4 + x3**3*x4 - 32*x3**2*x4**2 - 32*x3*x4**3 + 34*x4**4,\n",
       " 3*x1*x2*x3*x4 - 4*x1*x2*x4**2 + x1*x3**3 - 2*x1*x3**2*x4 - 2*x1*x3*x4**2 + 4*x1*x4**3 + x2**2*x3*x4 - 2*x2**2*x4**2 + 3*x2*x3**3 + 3*x2*x3**2*x4 - 7*x2*x3*x4**2 - x2*x4**3 + x3**4 + 3*x3**3*x4 + x3**2*x4**2 - 4*x3*x4**3 + 2*x4**4,\n",
       " -x1*x2*x3*x4 + 2*x1*x2*x4**2 - 2*x1*x3**3 + 2*x1*x3*x4**2 - x1*x4**3 + x2**2*x3**2 - x2**2*x3*x4 + x2**2*x4**2 - x2*x3**3 - 2*x2*x3**2*x4 + 3*x2*x3*x4**2 + 2*x2*x4**3 - x3**4 - 2*x3**3*x4 - 2*x3**2*x4**2 + 2*x3*x4**3,\n",
       " x1*x2*x3**2 + x1*x2*x3*x4 - x1*x2*x4**2 - x1*x3**2*x4 - x1*x3*x4**2 + x1*x4**3 + x2**2*x3*x4 + x2*x3**2*x4 + x2*x4**3 - x3**3*x4 - 2*x3**2*x4**2 - x3*x4**3 + x4**4,\n",
       " 2*x1*x2*x3*x4**2 - x1*x2*x4**3 - 2*x1*x3*x4**3 + x1*x4**4 + x2**2*x3*x4**2 + 2*x2*x3**2*x4**2 - x2*x3*x4**3 + x2*x4**4 - x3**2*x4**3 - 2*x3*x4**4 + x4**5 - 1,\n",
       " x1*x4**5 - x1 - x2*x4**5 + x2,\n",
       " -20*x1*x2*x4**4 + 5*x1*x3*x4**4 + 15*x1 - 20*x2**2*x4**4 + 15*x2*x3**2*x4**3 - 25*x2*x3*x4**4 - 23*x2*x4**5 - 7*x2 + 10*x3**3*x4**3 + 30*x3**2*x4**4 - 3*x3*x4**5 + 3*x3 - 4*x4**6 + 24*x4,\n",
       " -3*x1*x2*x4**4 + 11*x1*x3**2*x4**3 - 2*x1*x3*x4**4 - 6*x1 - 3*x2**2*x4**4 + 5*x2*x3**2*x4**3 - x2*x3*x4**4 - 15*x2*x4**5 + 5*x2 + 7*x3**3*x4**3 + 10*x3**2*x4**4 - x3*x4**5 + x3 - 5*x4**6 - 3*x4,\n",
       " 2*x2*x3*x4**5 - 2*x2*x3 + 8*x2*x4**6 - 8*x2*x4 + x3**2*x4**5 - x3**2 + x3*x4**6 - x3*x4 + 3*x4**7 - 3*x4**2,\n",
       " 3*x2**2*x4**5 - 3*x2**2 - 2*x2*x3*x4**5 + 2*x2*x3 + x2*x4**6 - x2*x4 - x3**2*x4**5 + x3**2 - x3*x4**6 + x3*x4,\n",
       " -9*x1*x2*x4**5 - x1*x2 + 11*x1*x3*x4**5 - x1*x3 - 3*x1*x4**6 + 3*x1*x4 - 6*x2**2*x4**5 - 4*x2**2 - 5*x2*x3*x4**5 - 9*x2*x4**6 - 6*x2*x4 + 5*x3**3*x4**4 + 14*x3**2*x4**5 + x3**2 + 5*x3*x4**6 - 5*x3*x4 - 3*x4**7 + 13*x4**2,\n",
       " 42*x1*x2*x3 - 76*x1*x2*x4 - 165*x1*x3**2 + 13*x1*x3*x4 + 186*x1*x4**2 + 21*x2**2*x3 - 55*x2**2*x4 + 42*x2*x3**2 - 131*x2*x3*x4 + 21*x2*x4**2 - 55*x3**3 - 21*x3**2*x4 - 42*x3*x4**2 + x4**8 + 219*x4**3,\n",
       " -110*x1*x2*x3 + 29*x1*x2*x4 + 52*x1*x3**2 - 34*x1*x3*x4 + 63*x1*x4**2 - 55*x2**2*x3 - 26*x2**2*x4 + 60*x2*x3**2 - 102*x2*x3*x4 - 120*x2*x4**2 + 39*x3**3 + 120*x3**2*x4 + x3*x4**7 + 109*x3*x4**2 - 26*x4**3,\n",
       " -112*x1*x2*x3 + 33*x1*x2*x4 + 61*x1*x3**2 - 35*x1*x3*x4 + 53*x1*x4**2 - 56*x2**2*x3 - 23*x2**2*x4 + 58*x2*x3**2 - 95*x2*x3*x4 + 8*x2*x4**7 - 129*x2*x4**2 + 42*x3**3 + 121*x3**2*x4 + x3*x4**7 + 111*x3*x4**2 + 3*x4**8 - 41*x4**3,\n",
       " 36*x1*x2*x3 - 11*x1*x2*x4 - 37*x1*x3**2 - 7*x1*x3*x4 + 19*x1*x4**2 + 8*x2**3 + 14*x2**2*x3 + 27*x2**2*x4 - 20*x2*x3**2 + x2*x3*x4 + 53*x2*x4**2 - 20*x3**3 + x3**2*x4**6 - 54*x3**2*x4 - 44*x3*x4**2 + 34*x4**3]"
      ]
     },
     "execution_count": 31,
     "metadata": {},
     "output_type": "execute_result"
    }
   ],
   "source": [
    "time( [ construct_poly(R,t) for t in \\\n",
    "       c.heads.scscp_transient_1.GroebnerBasisWithSingular( [ [ ext_rep_poly(x) for x in [f1,f2,f3,f4,f5] ] ] ) ] )"
   ]
  },
  {
   "cell_type": "code",
   "execution_count": 32,
   "metadata": {
    "collapsed": true
   },
   "outputs": [],
   "source": [
    "c.quit()"
   ]
  },
  {
   "cell_type": "markdown",
   "metadata": {},
   "source": [
    "* Thus, the wall time was reduced from 2 minutes to 6 seconds"
   ]
  }
 ],
 "metadata": {
  "kernelspec": {
   "display_name": "Python 3",
   "language": "python",
   "name": "python3"
  },
  "language_info": {
   "codemirror_mode": {
    "name": "ipython",
    "version": 3
   },
   "file_extension": ".py",
   "mimetype": "text/x-python",
   "name": "python",
   "nbconvert_exporter": "python",
   "pygments_lexer": "ipython3",
   "version": "3.5.1"
  }
 },
 "nbformat": 4,
 "nbformat_minor": 2
}
