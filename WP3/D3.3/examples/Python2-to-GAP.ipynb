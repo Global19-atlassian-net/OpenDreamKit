{
 "cells": [
  {
   "cell_type": "markdown",
   "metadata": {},
   "source": [
    "# Example of SCSCP client in Python2 connecting to GAP server"
   ]
  },
  {
   "cell_type": "code",
   "execution_count": 1,
   "metadata": {
    "collapsed": true
   },
   "outputs": [],
   "source": [
    "from scscp import SCSCPCLI"
   ]
  },
  {
   "cell_type": "markdown",
   "metadata": {},
   "source": [
    "* Establishing connection"
   ]
  },
  {
   "cell_type": "code",
   "execution_count": 2,
   "metadata": {
    "collapsed": true
   },
   "outputs": [],
   "source": [
    "c = SCSCPCLI('scscp.gap-system.org')"
   ]
  },
  {
   "cell_type": "markdown",
   "metadata": {},
   "source": [
    "* Ask for the list of supported procedures"
   ]
  },
  {
   "cell_type": "code",
   "execution_count": 3,
   "metadata": {
    "collapsed": false
   },
   "outputs": [
    {
     "data": {
      "text/plain": [
       "{'scscp_transient_1': ['SCSCPStartTracing', 'Addition', 'IO_UnpickleStringAndPickleItBack', 'NrConjugacyClasses', 'ConwayPolynomial', 'SmallGroup', 'GroupIdentification', 'AutomorphismGroup', 'IdGroup512ByCode', 'Phi', 'Factorial', 'GnuExplained', 'MathieuGroup', 'TransitiveGroup', 'PrimitiveGroup', 'Multiplication', 'NextUnknownGnu', 'Identity', 'IsPrimeInt', 'Gnu', 'Determinant', 'LatticeSubgroups', 'Length', 'MatrixMultiplication', 'SCSCPStopTracing', 'AlternatingGroup', 'SymmetricGroup', 'IdGroup', 'SylowSubgroup', 'GnuWishlist', 'Size']}"
      ]
     },
     "execution_count": 3,
     "metadata": {},
     "output_type": "execute_result"
    }
   ],
   "source": [
    "c.heads"
   ]
  },
  {
   "cell_type": "markdown",
   "metadata": {},
   "source": [
    "* A simplest test"
   ]
  },
  {
   "cell_type": "code",
   "execution_count": 4,
   "metadata": {
    "collapsed": false
   },
   "outputs": [
    {
     "data": {
      "text/plain": [
       "1"
      ]
     },
     "execution_count": 4,
     "metadata": {},
     "output_type": "execute_result"
    }
   ],
   "source": [
    "c.heads.scscp_transient_1.Identity([1])"
   ]
  },
  {
   "cell_type": "markdown",
   "metadata": {},
   "source": [
    "* In the next example, we retrieve from the server the symmetric group of degree $S_3$"
   ]
  },
  {
   "cell_type": "code",
   "execution_count": 5,
   "metadata": {
    "collapsed": false
   },
   "outputs": [],
   "source": [
    "g = c.heads.scscp_transient_1.SymmetricGroup([3])"
   ]
  },
  {
   "cell_type": "markdown",
   "metadata": {},
   "source": [
    "* This group does not map to an object defined in Python, so it is stored in its internal representation"
   ]
  },
  {
   "cell_type": "code",
   "execution_count": 6,
   "metadata": {
    "collapsed": false
   },
   "outputs": [
    {
     "data": {
      "text/plain": [
       "OMApplication(OMSymbol('group', 'permgp1', id=None, cdbase=None), [OMSymbol('right_compose', 'permutation1', id=None, cdbase=None), OMApplication(OMSymbol('permutation', 'permut1', id=None, cdbase=None), [OMInteger(2, id=None), OMInteger(3, id=None), OMInteger(1, id=None)], id=None, cdbase=None), OMApplication(OMSymbol('permutation', 'permut1', id=None, cdbase=None), [OMInteger(2, id=None), OMInteger(1, id=None)], id=None, cdbase=None)], id=None, cdbase=None)"
      ]
     },
     "execution_count": 6,
     "metadata": {},
     "output_type": "execute_result"
    }
   ],
   "source": [
    "g"
   ]
  },
  {
   "cell_type": "markdown",
   "metadata": {},
   "source": [
    "* However, we can use it as an argument in SCSCP procedure calls, for example, to find its order and the catalogue number in the GAP Small Groups Library"
   ]
  },
  {
   "cell_type": "code",
   "execution_count": 7,
   "metadata": {
    "collapsed": false
   },
   "outputs": [
    {
     "data": {
      "text/plain": [
       "6"
      ]
     },
     "execution_count": 7,
     "metadata": {},
     "output_type": "execute_result"
    }
   ],
   "source": [
    "c.heads.scscp_transient_1.Size([g])"
   ]
  },
  {
   "cell_type": "code",
   "execution_count": 8,
   "metadata": {
    "collapsed": false
   },
   "outputs": [
    {
     "data": {
      "text/plain": [
       "[6, 1]"
      ]
     },
     "execution_count": 8,
     "metadata": {},
     "output_type": "execute_result"
    }
   ],
   "source": [
    "c.heads.scscp_transient_1.IdGroup([g])"
   ]
  },
  {
   "cell_type": "markdown",
   "metadata": {},
   "source": [
    "* Close the connection"
   ]
  },
  {
   "cell_type": "code",
   "execution_count": 9,
   "metadata": {
    "collapsed": false
   },
   "outputs": [],
   "source": [
    "c.quit()"
   ]
  }
 ],
 "metadata": {
  "kernelspec": {
   "display_name": "Python 2",
   "language": "python",
   "name": "python2"
  },
  "language_info": {
   "codemirror_mode": {
    "name": "ipython",
    "version": 2
   },
   "file_extension": ".py",
   "mimetype": "text/x-python",
   "name": "python",
   "nbconvert_exporter": "python",
   "pygments_lexer": "ipython2",
   "version": "2.7.11"
  }
 },
 "nbformat": 4,
 "nbformat_minor": 2
}
