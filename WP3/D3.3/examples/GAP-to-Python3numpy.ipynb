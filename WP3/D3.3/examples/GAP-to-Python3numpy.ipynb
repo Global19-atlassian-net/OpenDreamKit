{
 "cells": [
  {
   "cell_type": "markdown",
   "metadata": {},
   "source": [
    "# Example of GAP SCSCP client connecting to Python 3 SCSCP server"
   ]
  },
  {
   "cell_type": "markdown",
   "metadata": {},
   "source": [
    "In this example GAP SCSCP client communicates with the Python 3 SCSCP server. The Python code is based on https://github.com/OpenMath/py-scscp/blob/master/demo_server.py"
   ]
  },
  {
   "cell_type": "markdown",
   "metadata": {},
   "source": [
    "### Simple calls"
   ]
  },
  {
   "cell_type": "code",
   "execution_count": 1,
   "metadata": {
    "collapsed": false
   },
   "outputs": [
    {
     "name": "stdout",
     "output_type": "stream",
     "text": [
      "4"
     ]
    }
   ],
   "source": [
    "EvaluateBySCSCP(\"plus\",[2,2],\"localhost\",26133:cd:=\"arith1\").object"
   ]
  },
  {
   "cell_type": "code",
   "execution_count": 2,
   "metadata": {
    "collapsed": false
   },
   "outputs": [
    {
     "name": "stdout",
     "output_type": "stream",
     "text": [
      "[ 1,\u0002\u0001 2,\u0002\u0001 3,\u0002\u0001 4 ]"
     ]
    }
   ],
   "source": [
    "EvaluateBySCSCP(\"plus\",[[1,2],[3,4]],\"localhost\",26133:cd:=\"arith1\").object"
   ]
  },
  {
   "cell_type": "markdown",
   "metadata": {},
   "source": [
    "In Python, addition of lists and strings is their concatenation"
   ]
  },
  {
   "cell_type": "code",
   "execution_count": 3,
   "metadata": {
    "collapsed": false
   },
   "outputs": [
    {
     "name": "stdout",
     "output_type": "stream",
     "text": [
      "\"abcdef\""
     ]
    }
   ],
   "source": [
    "EvaluateBySCSCP(\"plus\",[\"abc\",\"def\"],\"localhost\",26133:cd:=\"arith1\").object"
   ]
  },
  {
   "cell_type": "markdown",
   "metadata": {},
   "source": [
    "### Using NumPy linear algebra tools"
   ]
  },
  {
   "cell_type": "markdown",
   "metadata": {},
   "source": [
    "In the next example, we extend Python server to offer some procedures from the NumPy package for scientific computing (http://www.numpy.org/). To do that, we need only to add several more lines to the Python script to run the server:\n",
    "\n",
    "```\n",
    "import numpy\n",
    "\n",
    "CD_SCSCP_TRANSIENT1 = {\n",
    "    'numpy.linalg.det'         : numpy.linalg.det,\n",
    "    'numpy.linalg.matrix_rank' : lambda x: int(numpy.linalg.matrix_rank(x)),\n",
    "}\n",
    "```"
   ]
  },
  {
   "cell_type": "markdown",
   "metadata": {},
   "source": [
    "* Compute determinant and rank of a random 5x5 matrix"
   ]
  },
  {
   "cell_type": "code",
   "execution_count": 4,
   "metadata": {
    "collapsed": false
   },
   "outputs": [
    {
     "name": "stdout",
     "output_type": "stream",
     "text": [
      "[ [ 1,\u0002\u0001 0,\u0002\u0001 -1,\u0002\u0001 -1,\u0002\u0001 -1 ],\u0002\u0001 [ 1,\u0002\u0001 -1,\u0002\u0001 1,\u0002\u0001 -2,\u0002\u0001 -1 ],\u0002\u0001 [ -2,\u0002\u0001 0,\u0002\u0001 -1,\u0002\u0001 2,\u0002\u0001 -2 ],\u0002\u0001 [ -1,\u0002\u0001 2,\u0002\u0001 -3,\u0002\u0001 -1,\u0002\u0001 3 ],\u0002\u0001 [ 0,\u0002\u0001 -2,\u0002\u0001 1,\u0002\u0001 -4,\u0002\u0001 0 ] ]"
     ]
    }
   ],
   "source": [
    "m:=RandomMat(5,5);"
   ]
  },
  {
   "cell_type": "code",
   "execution_count": 5,
   "metadata": {
    "collapsed": false
   },
   "outputs": [
    {
     "name": "stdout",
     "output_type": "stream",
     "text": [
      "-36."
     ]
    }
   ],
   "source": [
    "EvaluateBySCSCP(\"numpy.linalg.det\",[m],\"localhost\",26133:OMignoreMatrices).object;"
   ]
  },
  {
   "cell_type": "code",
   "execution_count": 6,
   "metadata": {
    "collapsed": false
   },
   "outputs": [
    {
     "name": "stdout",
     "output_type": "stream",
     "text": [
      "5"
     ]
    }
   ],
   "source": [
    "EvaluateBySCSCP(\"numpy.linalg.matrix_rank\",[m],\"localhost\",26133:OMignoreMatrices).object;"
   ]
  },
  {
   "cell_type": "markdown",
   "metadata": {},
   "source": [
    "Let's try with matrices of larger dimensions"
   ]
  },
  {
   "cell_type": "code",
   "execution_count": 7,
   "metadata": {
    "collapsed": false
   },
   "outputs": [
    {
     "name": "stdout",
     "output_type": "stream",
     "text": [
      "-7.67794e+49"
     ]
    }
   ],
   "source": [
    "EvaluateBySCSCP(\"numpy.linalg.det\",[RandomMat(50,50)],\"localhost\",26133:OMignoreMatrices).object;"
   ]
  },
  {
   "cell_type": "code",
   "execution_count": 8,
   "metadata": {
    "collapsed": false
   },
   "outputs": [
    {
     "name": "stdout",
     "output_type": "stream",
     "text": [
      "50"
     ]
    }
   ],
   "source": [
    "EvaluateBySCSCP(\"numpy.linalg.matrix_rank\",[RandomMat(50,50)],\"localhost\",26133:OMignoreMatrices).object;"
   ]
  },
  {
   "cell_type": "markdown",
   "metadata": {},
   "source": [
    "### Using NumPy to calculate complex roots of polynomials"
   ]
  },
  {
   "cell_type": "markdown",
   "metadata": {},
   "source": [
    "Similarly, on the Python server we export another function that calculates (complext) roots of univariate polynomials and returns a list of their real and imaginary parts:\n",
    "```\n",
    "def polyroots( coeffs ):\n",
    "\tf = numpy.polynomial.polynomial.Polynomial( coeffs )\n",
    "\tr = f.roots()\n",
    "\treturn [ [x.real,x.imag] for x in r]\n",
    "```    "
   ]
  },
  {
   "cell_type": "markdown",
   "metadata": {},
   "source": [
    "* create polynomials with integer roots"
   ]
  },
  {
   "cell_type": "code",
   "execution_count": 9,
   "metadata": {
    "collapsed": false
   },
   "outputs": [
    {
     "name": "stdout",
     "output_type": "stream",
     "text": [
      "<object>"
     ]
    }
   ],
   "source": [
    "x:=X(Rationals,\"x\"); f:=(x-10)*(x-1)*(x+5);"
   ]
  },
  {
   "cell_type": "markdown",
   "metadata": {},
   "source": [
    "* calculate roots with GAP"
   ]
  },
  {
   "cell_type": "code",
   "execution_count": 10,
   "metadata": {
    "collapsed": false
   },
   "outputs": [
    {
     "name": "stdout",
     "output_type": "stream",
     "text": [
      "Error, Variable: 'f' must have a value\r\n"
     ]
    }
   ],
   "source": [
    "RootsOfUPol(f);"
   ]
  },
  {
   "cell_type": "markdown",
   "metadata": {},
   "source": [
    "* check that Python results agree"
   ]
  },
  {
   "cell_type": "code",
   "execution_count": 11,
   "metadata": {
    "collapsed": false
   },
   "outputs": [
    {
     "name": "stdout",
     "output_type": "stream",
     "text": [
      "Error, Variable: 'f' must have a value\r\n"
     ]
    }
   ],
   "source": [
    "coeffs:=CoefficientsOfUnivariatePolynomial(f)"
   ]
  },
  {
   "cell_type": "code",
   "execution_count": 12,
   "metadata": {
    "collapsed": false
   },
   "outputs": [
    {
     "name": "stdout",
     "output_type": "stream",
     "text": [
      "Error, Variable: 'coeffs' must have a value\r\n"
     ]
    }
   ],
   "source": [
    "EvaluateBySCSCP(\"polyroots\",[ coeffs ],\"localhost\",26133:OMignoreMatrices).object;"
   ]
  },
  {
   "cell_type": "markdown",
   "metadata": {},
   "source": [
    "* But GAP can not compute (approximations of) complex roots of another polynomial"
   ]
  },
  {
   "cell_type": "code",
   "execution_count": 13,
   "metadata": {
    "collapsed": false
   },
   "outputs": [
    {
     "name": "stdout",
     "output_type": "stream",
     "text": [
      "[  ]"
     ]
    }
   ],
   "source": [
    "RootsOfUPol(1+2*x+3*x^2);"
   ]
  },
  {
   "cell_type": "markdown",
   "metadata": {},
   "source": [
    "* However, Python with the help of NumPy is capable of doing this"
   ]
  },
  {
   "cell_type": "code",
   "execution_count": 14,
   "metadata": {
    "collapsed": false
   },
   "outputs": [
    {
     "name": "stdout",
     "output_type": "stream",
     "text": [
      "[ 1,\u0002\u0001 2,\u0002\u0001 3 ]"
     ]
    }
   ],
   "source": [
    "coeffs := CoefficientsOfUnivariatePolynomial(1+2*x+3*x^2)"
   ]
  },
  {
   "cell_type": "code",
   "execution_count": 15,
   "metadata": {
    "collapsed": false
   },
   "outputs": [
    {
     "name": "stdout",
     "output_type": "stream",
     "text": [
      "[ [ -0.333333,\u0002\u0001 -0.471405 ],\u0002\u0001 [ -0.333333,\u0002\u0001 0.471405 ] ]"
     ]
    }
   ],
   "source": [
    "EvaluateBySCSCP(\"polyroots\",[ coeffs ],\"localhost\",26133:OMignoreMatrices).object;"
   ]
  }
 ],
 "metadata": {
  "kernelspec": {
   "display_name": "GAP",
   "language": "gap",
   "name": "gap"
  },
  "language_info": {
   "codemirror_mode": "gap",
   "file_extension": ".g",
   "mimetype": "text/x-gap",
   "name": "gap"
  }
 },
 "nbformat": 4,
 "nbformat_minor": 2
}
