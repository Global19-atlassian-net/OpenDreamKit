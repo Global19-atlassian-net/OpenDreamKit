{
 "cells": [
  {
   "cell_type": "markdown",
   "metadata": {},
   "source": [
    "# Debian package statistics\n",
    "\n",
    "Some code to parse Debian's `Package.xz` fiels"
   ]
  },
  {
   "cell_type": "code",
   "execution_count": 1,
   "metadata": {},
   "outputs": [],
   "source": [
    "import re, lzma, urllib"
   ]
  },
  {
   "cell_type": "code",
   "execution_count": 69,
   "metadata": {},
   "outputs": [],
   "source": [
    "class Packages:\n",
    "    def __init__(self, filename):\n",
    "        self.pkgs = {}\n",
    "        with lzma.open(filename, 'rt') as f:\n",
    "            fields = {}\n",
    "            for l in f:\n",
    "                if l == '\\n':\n",
    "                    self.pkgs[fields['Package']] = fields.copy()\n",
    "                    fields = {}\n",
    "                elif l.startswith(' '):\n",
    "                    fields[k] += '\\n' + l.strip()\n",
    "                else:\n",
    "                    k, v = l.split(':', 1)\n",
    "                    fields[k] = v.strip()\n",
    "        self.parse_deps()\n",
    "\n",
    "    def parse_deps(self):\n",
    "        regex = re.compile(r'([^\\s,|]+)(?: \\([^\\),]+\\))?')\n",
    "        for p, d in self.pkgs.items():\n",
    "            for f in ('Depends', 'Recommends', 'Suggests'):\n",
    "                if f in d:\n",
    "                    deps = regex.findall(d[f])\n",
    "                    d['Parsed--' + f] = deps\n",
    "                    for dep in deps:\n",
    "                        if dep in self.pkgs:\n",
    "                            pkg = self.pkgs[dep]\n",
    "                            rev = pkg.get('Reverse--' + f, set())\n",
    "                            rev.add(p)\n",
    "                            pkg['Reverse--' + f] = rev\n",
    "\n",
    "    def depends(self, pkg, field='Parsed--Depends', deps=None, unsat=None):\n",
    "        if deps is None:\n",
    "            deps = set()\n",
    "        if unsat is None:\n",
    "            unsat = set()\n",
    "        if pkg in deps:\n",
    "            return len(deps) - 1, len(unsat)\n",
    "        if pkg not in self.pkgs:\n",
    "            unsat.add(pkg)\n",
    "            return len(deps), len(unsat) - 1\n",
    "        deps.add(pkg)\n",
    "        pkg = self.pkgs[pkg]\n",
    "        if field not in pkg:\n",
    "            return len(deps) - 1, len(unsat)\n",
    "\n",
    "        for d in pkg[field]:\n",
    "            _, u = self.depends(d, field, deps, unsat)\n",
    "\n",
    "        return len(deps) - 1, len(unsat)\n",
    "    \n",
    "    def mdeps(self, *pkgs, fields=['Parsed--Depends', 'Reverse--Depends']):\n",
    "        return { p: { f : self.depends(p, f) for f in fields } for p in pkgs }\n",
    "    \n",
    "    def search(self, string):\n",
    "        regex = re.compile(string)\n",
    "        results = set()\n",
    "        for p in self.pkgs:\n",
    "            if regex.search(p):\n",
    "                results.add(p)\n",
    "        return results\n",
    "    \n",
    "    def __getitem__(self, key):\n",
    "        return self.pkgs[key]\n",
    "    \n",
    "    def __repr__(self):\n",
    "        return 'Debian Packages file, containing %d packages' % len(self.pkgs)"
   ]
  },
  {
   "cell_type": "markdown",
   "metadata": {},
   "source": [
    "## September 1, 2015"
   ]
  },
  {
   "cell_type": "code",
   "execution_count": 97,
   "metadata": {},
   "outputs": [
    {
     "data": {
      "text/plain": [
       "('Packages-2015.xz', <http.client.HTTPMessage at 0x7fb3a0fa5590>)"
      ]
     },
     "execution_count": 97,
     "metadata": {},
     "output_type": "execute_result"
    }
   ],
   "source": [
    "urllib.request.urlretrieve (\"https://snapshot.debian.org/archive/debian/20150901T034109Z/dists/jessie/main/binary-i386/Packages.xz\",\n",
    "                            \"Packages-2015.xz\")"
   ]
  },
  {
   "cell_type": "code",
   "execution_count": 91,
   "metadata": {},
   "outputs": [
    {
     "data": {
      "text/plain": [
       "Debian Packages file, containing 42304 packages"
      ]
     },
     "execution_count": 91,
     "metadata": {},
     "output_type": "execute_result"
    }
   ],
   "source": [
    "pkgs = Packages('Packages-2015.xz')\n",
    "pkgs"
   ]
  },
  {
   "cell_type": "code",
   "execution_count": 63,
   "metadata": {},
   "outputs": [
    {
     "data": {
      "text/plain": [
       "{'Package': 'pari-gp',\n",
       " 'Source': 'pari',\n",
       " 'Version': '2.7.2-1',\n",
       " 'Installed-Size': '6040',\n",
       " 'Maintainer': 'Bill Allombert <ballombe@debian.org>',\n",
       " 'Architecture': 'i386',\n",
       " 'Depends': 'libc6 (>= 2.3.6-6~), libgmp10, libreadline6 (>= 6.0), libx11-6',\n",
       " 'Recommends': 'pari-doc, pari-galdata, pari-elldata, pari-seadata',\n",
       " 'Suggests': 'pari-gp2c, pari-galpol',\n",
       " 'Description': 'PARI/GP Computer Algebra System binaries',\n",
       " 'Homepage': 'http://pari.math.u-bordeaux.fr',\n",
       " 'Description-md5': 'f3f3e19e97fc49d96307dd88d802d215',\n",
       " 'Tag': 'field::mathematics, role::documentation, uitoolkit::ncurses',\n",
       " 'Section': 'math',\n",
       " 'Priority': 'optional',\n",
       " 'Filename': 'pool/main/p/pari/pari-gp_2.7.2-1_i386.deb',\n",
       " 'Size': '2082486',\n",
       " 'MD5sum': '8334c60c7321142951e36800c2038ec3',\n",
       " 'SHA1': 'a132fb1e7acf147f0983137f407dd29fee8b0140',\n",
       " 'SHA256': 'ddcf36c20771d19a9ef510b38a93dd9711175c948d5b8b96ea2f3d213562adbc',\n",
       " 'Reverse--Suggests': {'education-mathematics',\n",
       "  'hol-light',\n",
       "  'pari-elldata',\n",
       "  'pari-galdata',\n",
       "  'pari-galpol',\n",
       "  'pari-seadata'},\n",
       " 'Reverse--Recommends': {'pari-doc', 'science-mathematics'},\n",
       " 'Reverse--Depends': {'gap-alnuth', 'pari-gp2c', 'wims'},\n",
       " 'Parsed--Depends': ['libc6', 'libgmp10', 'libreadline6', 'libx11-6'],\n",
       " 'Parsed--Recommends': ['pari-doc',\n",
       "  'pari-galdata',\n",
       "  'pari-elldata',\n",
       "  'pari-seadata'],\n",
       " 'Parsed--Suggests': ['pari-gp2c', 'pari-galpol']}"
      ]
     },
     "execution_count": 63,
     "metadata": {},
     "output_type": "execute_result"
    }
   ],
   "source": [
    "pkgs['pari-gp']"
   ]
  },
  {
   "cell_type": "code",
   "execution_count": 48,
   "metadata": {},
   "outputs": [
    {
     "data": {
      "text/plain": [
       "{'pari-gp2c': {'Parsed--Depends': (36, 1), 'Reverse--Depends': (0, 0)},\n",
       " 'pari-gp': {'Parsed--Depends': (14, 0), 'Reverse--Depends': (6, 0)},\n",
       " 'gap': {'Parsed--Depends': (13, 0), 'Reverse--Depends': (9, 0)}}"
      ]
     },
     "execution_count": 48,
     "metadata": {},
     "output_type": "execute_result"
    }
   ],
   "source": [
    "pkgs.mdeps('pari-gp2c', 'pari-gp', 'gap')"
   ]
  },
  {
   "cell_type": "markdown",
   "metadata": {},
   "source": [
    "## August 31, 2017"
   ]
  },
  {
   "cell_type": "code",
   "execution_count": 81,
   "metadata": {},
   "outputs": [
    {
     "data": {
      "text/plain": [
       "('Packages-2017.xz', <http.client.HTTPMessage at 0x7f2def8d9c50>)"
      ]
     },
     "execution_count": 81,
     "metadata": {},
     "output_type": "execute_result"
    }
   ],
   "source": [
    "urllib.request.urlretrieve (\"https://snapshot.debian.org/archive/debian/20170831T220419Z/dists/stretch/main/binary-i386/Packages.xz\",\n",
    "                            \"Packages-2017.xz\")"
   ]
  },
  {
   "cell_type": "code",
   "execution_count": 82,
   "metadata": {},
   "outputs": [
    {
     "data": {
      "text/plain": [
       "Debian Packages file, containing 50668 packages"
      ]
     },
     "execution_count": 82,
     "metadata": {},
     "output_type": "execute_result"
    }
   ],
   "source": [
    "pkgs = Packages('Packages-2017.xz')\n",
    "pkgs"
   ]
  },
  {
   "cell_type": "code",
   "execution_count": 83,
   "metadata": {},
   "outputs": [
    {
     "data": {
      "text/plain": [
       "{'pari-gp2c': {'Parsed--Depends': (39, 1), 'Reverse--Depends': (0, 0)},\n",
       " 'pari-gp': {'Parsed--Depends': (16, 0), 'Reverse--Depends': (9, 0)},\n",
       " 'gap': {'Parsed--Depends': (14, 0), 'Reverse--Depends': (20, 0)},\n",
       " 'sagemath': {'Parsed--Depends': (602, 27), 'Reverse--Depends': (3, 0)},\n",
       " 'sagemath-jupyter': {'Parsed--Depends': (653, 27),\n",
       "  'Reverse--Depends': (0, 0)},\n",
       " 'singular': {'Parsed--Depends': (21, 0), 'Reverse--Depends': (4, 0)}}"
      ]
     },
     "execution_count": 83,
     "metadata": {},
     "output_type": "execute_result"
    }
   ],
   "source": [
    "pkgs.mdeps('pari-gp2c', 'pari-gp', 'gap', 'sagemath', 'sagemath-jupyter', 'singular')"
   ]
  },
  {
   "cell_type": "code",
   "execution_count": 90,
   "metadata": {},
   "outputs": [
    {
     "data": {
      "text/plain": [
       "{'Package': 'gap',\n",
       " 'Version': '4r8p6-2',\n",
       " 'Installed-Size': '22',\n",
       " 'Maintainer': 'Bill Allombert <ballombe@debian.org>',\n",
       " 'Architecture': 'all',\n",
       " 'Depends': 'gap-core, gap-libs, gap-online-help',\n",
       " 'Recommends': 'gap-doc, gap-dev, gap-trans-groups, gap-prim-groups, gap-small-groups, gap-autpgrp, gap-alnuth, gap-character-tables, gap-polycyclic, gap-table-of-marks',\n",
       " 'Suggests': 'gap-small-groups-extra, gap-atlasrep, gap-float, gap-grape, gap-guava, gap-io, gap-openmath, gap-radiroot, gap-scscp',\n",
       " 'Description': 'computer algebra system for Groups, Algorithms and Programming',\n",
       " 'Homepage': 'http://www.gap-system.org/',\n",
       " 'Description-md5': '7710bf392357fe2388d0b4d8cdf04d7f',\n",
       " 'Tag': 'field::mathematics, role::metapackage',\n",
       " 'Section': 'math',\n",
       " 'Priority': 'optional',\n",
       " 'Filename': 'pool/main/g/gap/gap_4r8p6-2_all.deb',\n",
       " 'Size': '11412',\n",
       " 'MD5sum': '8081f13f62b7b06301f55ea55dad802e',\n",
       " 'SHA256': 'cf24441234bd37c3269ce17a179913cf2d0eb17295fec747f06047510b790d98',\n",
       " 'Reverse--Recommends': {'regina-normal', 'science-mathematics', 'wims'},\n",
       " 'Parsed--Depends': ['gap-core', 'gap-libs', 'gap-online-help'],\n",
       " 'Parsed--Recommends': ['gap-doc',\n",
       "  'gap-dev',\n",
       "  'gap-trans-groups',\n",
       "  'gap-prim-groups',\n",
       "  'gap-small-groups',\n",
       "  'gap-autpgrp',\n",
       "  'gap-alnuth',\n",
       "  'gap-character-tables',\n",
       "  'gap-polycyclic',\n",
       "  'gap-table-of-marks'],\n",
       " 'Parsed--Suggests': ['gap-small-groups-extra',\n",
       "  'gap-atlasrep',\n",
       "  'gap-float',\n",
       "  'gap-grape',\n",
       "  'gap-guava',\n",
       "  'gap-io',\n",
       "  'gap-openmath',\n",
       "  'gap-radiroot',\n",
       "  'gap-scscp'],\n",
       " 'Reverse--Suggests': {'gap-doc'},\n",
       " 'Reverse--Depends': {'gap-alnuth',\n",
       "  'gap-atlasrep',\n",
       "  'gap-autpgrp',\n",
       "  'gap-float',\n",
       "  'gap-grape',\n",
       "  'gap-guava',\n",
       "  'gap-guava-bin',\n",
       "  'gap-io',\n",
       "  'gap-laguna',\n",
       "  'gap-openmath',\n",
       "  'gap-polycyclic',\n",
       "  'gap-radiroot',\n",
       "  'gap-scscp',\n",
       "  'libgap-sage-4'}}"
      ]
     },
     "execution_count": 90,
     "metadata": {},
     "output_type": "execute_result"
    }
   ],
   "source": [
    "pkgs['gap']"
   ]
  },
  {
   "cell_type": "markdown",
   "metadata": {},
   "source": [
    "## Debian buster, August 29, 2019"
   ]
  },
  {
   "cell_type": "code",
   "execution_count": 16,
   "metadata": {},
   "outputs": [
    {
     "data": {
      "text/plain": [
       "('Packages-2019.xz', <http.client.HTTPMessage at 0x7f2e3f7d9990>)"
      ]
     },
     "execution_count": 16,
     "metadata": {},
     "output_type": "execute_result"
    }
   ],
   "source": [
    "urllib.request.urlretrieve (\"https://snapshot.debian.org/archive/debian/20190829T233739Z/dists/buster/main/binary-i386/Packages.xz\",\n",
    "                            \"Packages-2019.xz\")"
   ]
  },
  {
   "cell_type": "code",
   "execution_count": 93,
   "metadata": {},
   "outputs": [
    {
     "data": {
      "text/plain": [
       "Debian Packages file, containing 56484 packages"
      ]
     },
     "execution_count": 93,
     "metadata": {},
     "output_type": "execute_result"
    }
   ],
   "source": [
    "pkgs = Packages('Packages-2019.xz')\n",
    "pkgs"
   ]
  },
  {
   "cell_type": "code",
   "execution_count": 71,
   "metadata": {},
   "outputs": [
    {
     "data": {
      "text/plain": [
       "{'Package': 'sagemath',\n",
       " 'Version': '8.6-6',\n",
       " 'Installed-Size': '102647',\n",
       " 'Maintainer': 'Debian Science Team <debian-science-maintainers@lists.alioth.debian.org>',\n",
       " 'Architecture': 'i386',\n",
       " 'Depends': 'ecl (>= 16.1.3), gap-core (>= 4r10p0-3), libblas3 | libblas.so.3, libbraiding0, libbrial-groebner3, libbrial3, libc6 (>= 2.4), libcliquer1, libec4, libecm1, libflint-2.5.2, libflint-arb2, libgc1c2 (>= 1:7.2d), libgcc1 (>= 1:7), libgd3 (>= 2.1.0~alpha~), libgivaro9 (>= 4.0.2-8~), libglpk40 (>= 4.59), libgmp10 (>= 2:6.1.0), libgmpxx4ldbl, libgomp1 (>= 4.9), libgsl23 (>= 2.5), libgslcblas0 (>= 2.4), libhomfly0, libiml0, liblapack3 | liblapack.so.3, liblfunction0, liblinbox-1.5.2-0, liblinboxsage-1.5.2-0, liblrcalc1, libm4ri-0.0.20140914, libm4rie-0.0.20150908, libmpc3, libmpfi0 (>= 1.5.1), libmpfr6 (>= 4.0.0), libntl35, libpari-gmp-tls6 (>= 2.11.0-1), libplanarity0, libpng16-16 (>= 1.6.2-1), libppl14, libpynac18, libratpoints-2.1.3, libreadline7 (>= 6.0), librw0, libsingular4m1, libstdc++6 (>= 5.2), libsymmetrica2 (>= 2.0), libzn-poly-0.9, zlib1g (>= 1:1.1.4), python (<< 2.8), python (>= 2.7~), python-numpy (>= 1:1.16.0~rc1), python-numpy-abi9, python:any (<< 2.8), python:any (>= 2.7~), cysignals-tools (>= 1.8.1), cython (>= 0.29.1), eclib-tools (>= 20180815), fflas-ffpack (>= 2.3.2), flintqs, gap-dev (>= 4r10p0-3), gap-online-help, gap-atlasrep, gap-primgrp, gap-smallgrp, gap-transgrp, gap-table-of-marks, gfan (>= 0.6.2), gmp-ecm, ipython (>= 5.5.0), iso-codes, jmol (>= 14.6.4), lcalc (>= 1.23+dfsg-10), less, libcdd-tools (>= 094j), libjs-mathjax, libjs-three (>= 80), maxima-sage (>= 5.41.0+ds-3), maxima-sage-share (>= 5.41.0+ds-3), nauty, palp (>= 2.1-2), pari-gp (>= 2.11.0), pari-galdata, pari-seadata, python-alabaster, python-babel, python-backports-abc, python-backports.functools-lru-cache, python-backports-shutil-get-terminal-size, python-brial (>= 1.2.4), python-configparser, python-cvxopt, python-cycler, python-cypari2 (>= 1.3.1), python-cysignals-pari (>= 1.8.1), python-decorator, python-docutils, python-enum34, python-fpylll (>= 0.4.1), python-functools32, python-future, python-imagesize, python-ipython-genutils, python-itsdangerous, python-matplotlib (>= 2.1), python-mistune, python-mpmath, python-networkx (>= 2.2), python-openid, python-packaging, python-path, python-pathlib2, python-pexpect (>= 4.1), python-pickleshare, python-pil, python-pip, python-pkgconfig, python-prompt-toolkit, python-psutil, python-ptyprocess, python-pygments, python-rpy2, python-sagenb (>= 1.0.1+ds1-5), python-scipy (>= 0.19.1), python-setuptools, python-setuptools-scm, python-simplegeneric, python-singledispatch, python-snowballstemmer, python-sphinx (>= 1.8), python-stemmer, python-subprocess32, python-sympy, python-terminado, python-tornado, python-traitlets, python-twisted, python-typing, python-tz, python-vcversioner, python-wcwidth, python-werkzeug, python-zmq, python-zope.interface, r-base-core, rubiks, sagemath-database-conway-polynomials (>= 0.5-2), sagemath-database-elliptic-curves, sagemath-database-graphs, sagemath-database-mutually-combinatorial-designs, sagemath-database-polytopes, singular (>= 1:4.1.1-p2), singular (<< 1:4.1.1-p3+ds-1), sqlite3, sympow (>= 1.023-9), tachyon, xcas, sagemath-common (= 8.6-6)',\n",
       " 'Recommends': 'maxima-sage-doc (>= 5.41.0+ds-3), pari-doc (>= 2.11.0), python-sagenb-export (>= 3.2), r-cran-lattice, singular-doc (>= 1:4.1.1-p2), singular-doc (<< 1:4.1.1-p3+ds-1), sagemath-doc-en (= 8.6-6), sagemath-jupyter (= 8.6-6), sagetex, texlive-latex-base',\n",
       " 'Suggests': 'dot2tex, gap-design, gap-factint, gap-grape, gap-guava, gap-laguna, gap-sonata, gap-toric',\n",
       " 'Description': 'Open Source Mathematical Software',\n",
       " 'Multi-Arch': 'same',\n",
       " 'Homepage': 'http://www.sagemath.org/',\n",
       " 'Description-md5': '256abf706908b42a76741126f42111ff',\n",
       " 'Section': 'math',\n",
       " 'Priority': 'optional',\n",
       " 'Filename': 'pool/main/s/sagemath/sagemath_8.6-6_i386.deb',\n",
       " 'Size': '21377720',\n",
       " 'MD5sum': '077d4adabbd86161f887e344fbe04eeb',\n",
       " 'SHA256': 'ffe4bc70b6cd8941b6b539b6f4a8dfe41ad0c43f9b0a30a7ecd047fbf3cb4dc3',\n",
       " 'Reverse--Suggests': {'cantor-backend-sage'},\n",
       " 'Reverse--Recommends': {'python-sagenb', 'science-mathematics'},\n",
       " 'Parsed--Depends': ['ecl',\n",
       "  'gap-core',\n",
       "  'libblas3',\n",
       "  'libblas.so.3',\n",
       "  'libbraiding0',\n",
       "  'libbrial-groebner3',\n",
       "  'libbrial3',\n",
       "  'libc6',\n",
       "  'libcliquer1',\n",
       "  'libec4',\n",
       "  'libecm1',\n",
       "  'libflint-2.5.2',\n",
       "  'libflint-arb2',\n",
       "  'libgc1c2',\n",
       "  'libgcc1',\n",
       "  'libgd3',\n",
       "  'libgivaro9',\n",
       "  'libglpk40',\n",
       "  'libgmp10',\n",
       "  'libgmpxx4ldbl',\n",
       "  'libgomp1',\n",
       "  'libgsl23',\n",
       "  'libgslcblas0',\n",
       "  'libhomfly0',\n",
       "  'libiml0',\n",
       "  'liblapack3',\n",
       "  'liblapack.so.3',\n",
       "  'liblfunction0',\n",
       "  'liblinbox-1.5.2-0',\n",
       "  'liblinboxsage-1.5.2-0',\n",
       "  'liblrcalc1',\n",
       "  'libm4ri-0.0.20140914',\n",
       "  'libm4rie-0.0.20150908',\n",
       "  'libmpc3',\n",
       "  'libmpfi0',\n",
       "  'libmpfr6',\n",
       "  'libntl35',\n",
       "  'libpari-gmp-tls6',\n",
       "  'libplanarity0',\n",
       "  'libpng16-16',\n",
       "  'libppl14',\n",
       "  'libpynac18',\n",
       "  'libratpoints-2.1.3',\n",
       "  'libreadline7',\n",
       "  'librw0',\n",
       "  'libsingular4m1',\n",
       "  'libstdc++6',\n",
       "  'libsymmetrica2',\n",
       "  'libzn-poly-0.9',\n",
       "  'zlib1g',\n",
       "  'python',\n",
       "  'python',\n",
       "  'python-numpy',\n",
       "  'python-numpy-abi9',\n",
       "  'python:any',\n",
       "  'python:any',\n",
       "  'cysignals-tools',\n",
       "  'cython',\n",
       "  'eclib-tools',\n",
       "  'fflas-ffpack',\n",
       "  'flintqs',\n",
       "  'gap-dev',\n",
       "  'gap-online-help',\n",
       "  'gap-atlasrep',\n",
       "  'gap-primgrp',\n",
       "  'gap-smallgrp',\n",
       "  'gap-transgrp',\n",
       "  'gap-table-of-marks',\n",
       "  'gfan',\n",
       "  'gmp-ecm',\n",
       "  'ipython',\n",
       "  'iso-codes',\n",
       "  'jmol',\n",
       "  'lcalc',\n",
       "  'less',\n",
       "  'libcdd-tools',\n",
       "  'libjs-mathjax',\n",
       "  'libjs-three',\n",
       "  'maxima-sage',\n",
       "  'maxima-sage-share',\n",
       "  'nauty',\n",
       "  'palp',\n",
       "  'pari-gp',\n",
       "  'pari-galdata',\n",
       "  'pari-seadata',\n",
       "  'python-alabaster',\n",
       "  'python-babel',\n",
       "  'python-backports-abc',\n",
       "  'python-backports.functools-lru-cache',\n",
       "  'python-backports-shutil-get-terminal-size',\n",
       "  'python-brial',\n",
       "  'python-configparser',\n",
       "  'python-cvxopt',\n",
       "  'python-cycler',\n",
       "  'python-cypari2',\n",
       "  'python-cysignals-pari',\n",
       "  'python-decorator',\n",
       "  'python-docutils',\n",
       "  'python-enum34',\n",
       "  'python-fpylll',\n",
       "  'python-functools32',\n",
       "  'python-future',\n",
       "  'python-imagesize',\n",
       "  'python-ipython-genutils',\n",
       "  'python-itsdangerous',\n",
       "  'python-matplotlib',\n",
       "  'python-mistune',\n",
       "  'python-mpmath',\n",
       "  'python-networkx',\n",
       "  'python-openid',\n",
       "  'python-packaging',\n",
       "  'python-path',\n",
       "  'python-pathlib2',\n",
       "  'python-pexpect',\n",
       "  'python-pickleshare',\n",
       "  'python-pil',\n",
       "  'python-pip',\n",
       "  'python-pkgconfig',\n",
       "  'python-prompt-toolkit',\n",
       "  'python-psutil',\n",
       "  'python-ptyprocess',\n",
       "  'python-pygments',\n",
       "  'python-rpy2',\n",
       "  'python-sagenb',\n",
       "  'python-scipy',\n",
       "  'python-setuptools',\n",
       "  'python-setuptools-scm',\n",
       "  'python-simplegeneric',\n",
       "  'python-singledispatch',\n",
       "  'python-snowballstemmer',\n",
       "  'python-sphinx',\n",
       "  'python-stemmer',\n",
       "  'python-subprocess32',\n",
       "  'python-sympy',\n",
       "  'python-terminado',\n",
       "  'python-tornado',\n",
       "  'python-traitlets',\n",
       "  'python-twisted',\n",
       "  'python-typing',\n",
       "  'python-tz',\n",
       "  'python-vcversioner',\n",
       "  'python-wcwidth',\n",
       "  'python-werkzeug',\n",
       "  'python-zmq',\n",
       "  'python-zope.interface',\n",
       "  'r-base-core',\n",
       "  'rubiks',\n",
       "  'sagemath-database-conway-polynomials',\n",
       "  'sagemath-database-elliptic-curves',\n",
       "  'sagemath-database-graphs',\n",
       "  'sagemath-database-mutually-combinatorial-designs',\n",
       "  'sagemath-database-polytopes',\n",
       "  'singular',\n",
       "  'singular',\n",
       "  'sqlite3',\n",
       "  'sympow',\n",
       "  'tachyon',\n",
       "  'xcas',\n",
       "  'sagemath-common'],\n",
       " 'Parsed--Recommends': ['maxima-sage-doc',\n",
       "  'pari-doc',\n",
       "  'python-sagenb-export',\n",
       "  'r-cran-lattice',\n",
       "  'singular-doc',\n",
       "  'singular-doc',\n",
       "  'sagemath-doc-en',\n",
       "  'sagemath-jupyter',\n",
       "  'sagetex',\n",
       "  'texlive-latex-base'],\n",
       " 'Parsed--Suggests': ['dot2tex',\n",
       "  'gap-design',\n",
       "  'gap-factint',\n",
       "  'gap-grape',\n",
       "  'gap-guava',\n",
       "  'gap-laguna',\n",
       "  'gap-sonata',\n",
       "  'gap-toric'],\n",
       " 'Reverse--Depends': {'python-sagetex', 'sagemath-jupyter'}}"
      ]
     },
     "execution_count": 71,
     "metadata": {},
     "output_type": "execute_result"
    }
   ],
   "source": [
    "pkgs['sagemath']"
   ]
  },
  {
   "cell_type": "code",
   "execution_count": 72,
   "metadata": {},
   "outputs": [
    {
     "data": {
      "text/plain": [
       "{'pari-gp2c': {'Parsed--Depends': (41, 1), 'Reverse--Depends': (0, 0)},\n",
       " 'pari-gp': {'Parsed--Depends': (16, 0), 'Reverse--Depends': (9, 0)},\n",
       " 'gap': {'Parsed--Depends': (15, 0), 'Reverse--Depends': (13, 0)},\n",
       " 'sagemath': {'Parsed--Depends': (517, 20), 'Reverse--Depends': (3, 0)},\n",
       " 'sagemath-jupyter': {'Parsed--Depends': (593, 20),\n",
       "  'Reverse--Depends': (0, 0)},\n",
       " 'singular': {'Parsed--Depends': (23, 0), 'Reverse--Depends': (4, 0)}}"
      ]
     },
     "execution_count": 72,
     "metadata": {},
     "output_type": "execute_result"
    }
   ],
   "source": [
    "pkgs.mdeps('pari-gp2c', 'pari-gp', 'gap', 'sagemath', 'sagemath-jupyter', 'singular')"
   ]
  },
  {
   "cell_type": "code",
   "execution_count": 109,
   "metadata": {},
   "outputs": [
    {
     "data": {
      "text/plain": [
       "[('php-horde-imp', 78),\n",
       " ('npm', 79),\n",
       " ('python3-nova', 80),\n",
       " ('kdepim-addons', 83),\n",
       " ('kmail', 83),\n",
       " ('php-horde-core', 83),\n",
       " ('firefox-esr-l10n-all', 97),\n",
       " ('vlc-plugin-base', 100),\n",
       " ('request-tracker4', 103),\n",
       " ('forensics-all', 105),\n",
       " ('plasma-desktop', 106),\n",
       " ('tryton-modules-all', 106),\n",
       " ('parl-desktop-eu', 125),\n",
       " ('libdpdk-dev', 126),\n",
       " ('plasma-workspace', 126),\n",
       " ('libmono-cil-dev', 132),\n",
       " ('forensics-extra', 153),\n",
       " ('sagemath', 159),\n",
       " ('tesseract-ocr-all', 162),\n",
       " ('parl-desktop-world', 383)]"
      ]
     },
     "execution_count": 109,
     "metadata": {},
     "output_type": "execute_result"
    }
   ],
   "source": [
    "sorted([(p, len(d['Parsed--Depends'])) for p, d in pkgs.pkgs.items() if 'Parsed--Depends' in d], key=lambda x:x[1])[-20:]"
   ]
  },
  {
   "cell_type": "code",
   "execution_count": null,
   "metadata": {},
   "outputs": [],
   "source": []
  }
 ],
 "metadata": {
  "kernelspec": {
   "display_name": "Python 3",
   "language": "python",
   "name": "python3"
  },
  "language_info": {
   "codemirror_mode": {
    "name": "ipython",
    "version": 3
   },
   "file_extension": ".py",
   "mimetype": "text/x-python",
   "name": "python",
   "nbconvert_exporter": "python",
   "pygments_lexer": "ipython3",
   "version": "3.7.4"
  }
 },
 "nbformat": 4,
 "nbformat_minor": 2
}
